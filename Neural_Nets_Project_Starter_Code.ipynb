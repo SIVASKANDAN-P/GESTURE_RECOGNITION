{
  "cells": [
    {
      "cell_type": "markdown",
      "metadata": {
        "id": "view-in-github",
        "colab_type": "text"
      },
      "source": [
        "<a href=\"https://colab.research.google.com/github/SIVASKANDAN-P/GESTURE_RECOGNITION/blob/main/Neural_Nets_Project_Starter_Code.ipynb\" target=\"_parent\"><img src=\"https://colab.research.google.com/assets/colab-badge.svg\" alt=\"Open In Colab\"/></a>"
      ]
    },
    {
      "cell_type": "markdown",
      "metadata": {
        "id": "Y3E5DOgz31EW"
      },
      "source": [
        "# Gesture Recognition\n",
        "In this group project, you are going to build a 3D Conv model that will be able to predict the 5 gestures correctly. Please import the following libraries to get started."
      ]
    },
    {
      "cell_type": "code",
      "source": [
        "pip install Pillow"
      ],
      "metadata": {
        "colab": {
          "base_uri": "https://localhost:8080/"
        },
        "id": "9iI_uZMR66Ih",
        "outputId": "ad299a03-9f1d-480d-975b-0b010b73fae4"
      },
      "execution_count": 1,
      "outputs": [
        {
          "output_type": "stream",
          "name": "stdout",
          "text": [
            "Requirement already satisfied: Pillow in /usr/local/lib/python3.10/dist-packages (9.4.0)\n"
          ]
        }
      ]
    },
    {
      "cell_type": "code",
      "source": [
        "from google.colab import drive\n",
        "drive.mount('/content/drive')"
      ],
      "metadata": {
        "colab": {
          "base_uri": "https://localhost:8080/"
        },
        "id": "ZVcEr1_5P7Nx",
        "outputId": "f761ae92-dd1e-4af2-bc0b-9a6631d14988"
      },
      "execution_count": 1,
      "outputs": [
        {
          "output_type": "stream",
          "name": "stdout",
          "text": [
            "Mounted at /content/drive\n"
          ]
        }
      ]
    },
    {
      "cell_type": "code",
      "execution_count": 3,
      "metadata": {
        "id": "kRaDjQuf31Eb"
      },
      "outputs": [],
      "source": [
        "import numpy as np\n",
        "import os\n",
        "from imageio import imread\n",
        "from PIL import Image\n",
        "#from scipy.ndimage import imread, imresize\n",
        "import datetime\n",
        "import os"
      ]
    },
    {
      "cell_type": "markdown",
      "metadata": {
        "id": "ef5Vd7Ev31Ee"
      },
      "source": [
        "We set the random seed so that the results don't vary drastically."
      ]
    },
    {
      "cell_type": "code",
      "execution_count": 4,
      "metadata": {
        "id": "TbZvyvKM31Ef"
      },
      "outputs": [],
      "source": [
        "np.random.seed(30)\n",
        "import random as rn\n",
        "rn.seed(30)\n",
        "from keras import backend as K\n",
        "import tensorflow as tf\n",
        "#tf.set_random_seed(30)\n",
        "tf.random.set_seed(30)"
      ]
    },
    {
      "cell_type": "markdown",
      "metadata": {
        "id": "ihLaR0c031Eg"
      },
      "source": [
        "In this block, you read the folder names for training and validation. You also set the `batch_size` here. Note that you set the batch size in such a way that you are able to use the GPU in full capacity. You keep increasing the batch size until the machine throws an error."
      ]
    },
    {
      "cell_type": "code",
      "execution_count": 5,
      "metadata": {
        "id": "ADlW6nih31Eh"
      },
      "outputs": [],
      "source": [
        "train_doc = np.random.permutation(open('/content/drive/MyDrive/gesture recognition/Project_data/train.csv').readlines())\n",
        "val_doc = np.random.permutation(open('/content/drive/MyDrive/gesture recognition/Project_data/val.csv').readlines())\n",
        "batch_size = 10 #experiment with the batch size"
      ]
    },
    {
      "cell_type": "code",
      "source": [
        "img_idx = [i for i in range(0,31,2)]\n",
        "print(img_idx)"
      ],
      "metadata": {
        "id": "PaT0c_CwU0B-",
        "colab": {
          "base_uri": "https://localhost:8080/"
        },
        "outputId": "952db57a-efef-48fa-e0e2-d435e5825e6e"
      },
      "execution_count": 6,
      "outputs": [
        {
          "output_type": "stream",
          "name": "stdout",
          "text": [
            "[0, 2, 4, 6, 8, 10, 12, 14, 16, 18, 20, 22, 24, 26, 28, 30]\n"
          ]
        }
      ]
    },
    {
      "cell_type": "code",
      "source": [
        "train_doc.size"
      ],
      "metadata": {
        "id": "LAyfCDntVn9L",
        "outputId": "d510694a-cc70-4ce3-b4fd-560408c36f18",
        "colab": {
          "base_uri": "https://localhost:8080/"
        }
      },
      "execution_count": 7,
      "outputs": [
        {
          "output_type": "execute_result",
          "data": {
            "text/plain": [
              "663"
            ]
          },
          "metadata": {},
          "execution_count": 7
        }
      ]
    },
    {
      "cell_type": "markdown",
      "metadata": {
        "id": "FphYnwOc31Ei"
      },
      "source": [
        "## Generator\n",
        "This is one of the most important part of the code. The overall structure of the generator has been given. In the generator, you are going to preprocess the images as you have images of 2 different dimensions as well as create a batch of video frames. You have to experiment with `img_idx`, `y`,`z` and normalization such that you get high accuracy."
      ]
    },
    {
      "cell_type": "code",
      "source": [
        "from skimage.transform import resize\n"
      ],
      "metadata": {
        "id": "2CN_GqVmVG4b"
      },
      "execution_count": 9,
      "outputs": []
    },
    {
      "cell_type": "code",
      "source": [
        "def cropResize(image, y, z):\n",
        "    h, w = image.shape\n",
        "\n",
        "    # if smaller image crop at center for 120x120\n",
        "    if w == 160:\n",
        "        image = image[:120, 20:140]\n",
        "\n",
        "    # resize every image\n",
        "    return resize(image, (y,z))\n"
      ],
      "metadata": {
        "id": "PZ9wyZy9VYlu"
      },
      "execution_count": 10,
      "outputs": []
    },
    {
      "cell_type": "code",
      "source": [
        "def normalizeImage(image):\n",
        "    # applying normalization\n",
        "    return image/255.0\n"
      ],
      "metadata": {
        "id": "hRh-t5CEVcgn"
      },
      "execution_count": 11,
      "outputs": []
    },
    {
      "cell_type": "code",
      "source": [
        "def preprocessImage(image, y, z):\n",
        "    return normalizeImage(cropResize(image, y, z))\n"
      ],
      "metadata": {
        "id": "dIhxCXa3Vjwd"
      },
      "execution_count": 12,
      "outputs": []
    },
    {
      "cell_type": "code",
      "execution_count": 13,
      "metadata": {
        "id": "mM_WvsVK31Ej"
      },
      "outputs": [],
      "source": [
        "def generator(source_path, folder_list, batch_size):\n",
        "    print( 'Source path = ', source_path, '; batch size =', batch_size)\n",
        "    img_idx = [i for i in range(0,30,2)]#create a list of image numbers you want to use for a particular video\n",
        "    while True:\n",
        "        t = np.random.permutation(folder_list)\n",
        "        #print(len(t))\n",
        "        num_batches = int(len(folder_list)/batch_size) # calculate the number of batches\n",
        "        for batch in range(num_batches): # we iterate over the number of batches\n",
        "            batch_data = np.zeros((batch_size,15,120,120,3)) # x is the number of images you use for each video, (y,z) is the final size of the input images and 3 is the number of channels RGB\n",
        "            batch_labels = np.zeros((batch_size,5)) # batch_labels is the one hot representation of the output\n",
        "            for folder in range(batch_size): # iterate over the batch_size\n",
        "                imgs = os.listdir(source_path+'/'+ t[folder + (batch*batch_size)].split(';')[0]) # read all the images in the folder\n",
        "                for idx,item in enumerate(img_idx): #  Iterate iver the frames/images of a folder to read them in\n",
        "                    #print('idx',idx)\n",
        "                    #print('batch',batch)\n",
        "                    #print(num_batches)\n",
        "                    #print('size',batch_size)\n",
        "                    ##print('item',item)\n",
        "                    #print('len',len(imgs))\n",
        "                    #print(t[folder + (batch*batch_size)])\n",
        "                    #print(imgs[item])\n",
        "                    image = imread(source_path  +'/'+ t[folder + (batch*batch_size)].strip().split(';')[0]+'/'+imgs[item]).astype(np.float32)\n",
        "                    #crop the images and resize them. Note that the images are of 2 different shape\n",
        "\n",
        "                    #and the conv3D will throw error if the inputs in a batch have different shapes\n",
        "                    #batch_data[folder,idx,:,:,0] = image[:,:,0]/255 #normalise and feed in the image\n",
        "                    #batch_data[folder,idx,:,:,1] = image[:,:,1]/255 #normalise and feed in the image\n",
        "                    #batch_data[folder,idx,:,:,2] = image[:,:,2]/255 #normalise and feed in the image\n",
        "                    y=120\n",
        "                    z=120\n",
        "                    batch_data[folder,idx,:,:,0] = preprocessImage(image[:, :, 0], y, z) #normalise and feed in the image\n",
        "                    batch_data[folder,idx,:,:,1] = preprocessImage(image[:, :, 1], y, z) #normalise and feed in the image\n",
        "                    batch_data[folder,idx,:,:,2] = preprocessImage(image[:, :, 2], y, z) #normalise and feed in the image\n",
        "\n",
        "\n",
        "                batch_labels[folder, int(t[folder + (batch*batch_size)].strip().split(';')[2])] = 1\n",
        "            #print(len(batch_data))\n",
        "            yield batch_data, batch_labels #you yield the batch_data and the batch_labels, remember what does yield do\n",
        "        # write the code for the remaining data points which are left after full batches\n",
        "        #batch = batch + 1\n",
        "        if (len(folder_list)%batch_size > 0):\n",
        "          batch = batch + 1\n",
        "          #print('in extra')\n",
        "          #print('batch',batch)\n",
        "          #print('num_batches',num_batches)\n",
        "          #print(int(len(folder_list)%batch_size))\n",
        "          batch_data = np.zeros((batch_size,15,120,120,3)) # x is the number of images you use for each video, (y,z) is the final size of the input images and 3 is the number of channels RGB\n",
        "          batch_labels = np.zeros((batch_size,5)) # batch_labels is the one hot representation of the output\n",
        "          for folder in range(int(len(folder_list)%batch_size)): # iterate over the batch_size\n",
        "              imgs = os.listdir(source_path+'/'+ t[folder + (batch*batch_size)].split(';')[0]) # read all the images in the folder\n",
        "              for idx,item in enumerate(img_idx): #  Iterate iver the frames/images of a folder to read them in\n",
        "                    image = imread(source_path  +'/'+ t[folder + (batch*batch_size)].strip().split(';')[0]+'/'+imgs[item]).astype(np.float32)\n",
        "                    #crop the images and resize them. Note that the images are of 2 different shape\n",
        "                    #and the conv3D will throw error if the inputs in a batch have different shapes\n",
        "                    batch_data[folder,idx,:,:,0] = preprocessImage(image[:, :, 0], y, z) #normalise and feed in the image\n",
        "                    batch_data[folder,idx,:,:,1] = preprocessImage(image[:, :, 1], y, z) #normalise and feed in the image\n",
        "                    batch_data[folder,idx,:,:,2] = preprocessImage(image[:, :, 2], y, z) #normalise and feed in the image\n",
        "                    batch_labels[folder, int(t[folder + (batch*batch_size)].strip().split(';')[2])] = 1\n",
        "          print(len(batch_data))\n",
        "          yield batch_data, batch_labels #you yield the batch_data and the batch_labels, remember what does yield do\n",
        "\n"
      ]
    },
    {
      "cell_type": "code",
      "source": [
        "def getImgTensor(n_frames):\n",
        "    img_idx = np.round(np.linspace(0, 29, n_frames)).astype(int)\n",
        "    return [img_idx, 120, 120, 3]\n"
      ],
      "metadata": {
        "id": "J0l5uqHJEhZY"
      },
      "execution_count": 24,
      "outputs": []
    },
    {
      "cell_type": "markdown",
      "metadata": {
        "id": "kdPvvwdw31El"
      },
      "source": [
        "Note here that a video is represented above in the generator as (number of images, height, width, number of channels). Take this into consideration while creating the model architecture."
      ]
    },
    {
      "cell_type": "code",
      "execution_count": 14,
      "metadata": {
        "id": "rn1-BZUO31Em",
        "colab": {
          "base_uri": "https://localhost:8080/"
        },
        "outputId": "770a28d1-a48a-4208-9f57-fce25ab2f15b"
      },
      "outputs": [
        {
          "output_type": "stream",
          "name": "stdout",
          "text": [
            "# training sequences = 663\n",
            "# validation sequences = 100\n",
            "# epochs = 5\n"
          ]
        }
      ],
      "source": [
        "curr_dt_time = datetime.datetime.now()\n",
        "#train_path = '/notebooks/storage/Final_data/Collated_training/train'\n",
        "#val_path = '/notebooks/storage/Final_data/Collated_training/val'\n",
        "train_path = '/content/drive/MyDrive/gesture recognition/Project_data/train'\n",
        "val_path = '/content/drive/MyDrive/gesture recognition/Project_data/val'\n",
        "num_train_sequences = len(train_doc)\n",
        "print('# training sequences =', num_train_sequences)\n",
        "num_val_sequences = len(val_doc)\n",
        "print('# validation sequences =', num_val_sequences)\n",
        "num_epochs = 5 # choose the number of epochs\n",
        "print ('# epochs =', num_epochs)"
      ]
    },
    {
      "cell_type": "code",
      "source": [
        "# Traversing through Test\n",
        "import os\n",
        "\n",
        "# List to store all empty\n",
        "# directories\n",
        "empty = []\n",
        "\n",
        "for root, dirs, files in os.walk('/content/drive/MyDrive/gesture recognition/Project_data/train'):\n",
        "\n",
        "    # Checking the size of tuple\n",
        "    if not len(dirs) and not len(files):\n",
        "\n",
        "        # Adding the empty directory to\n",
        "        # list\n",
        "        empty.append(root)\n",
        "\n",
        "print(\"Empty Directories:\")\n",
        "print(len(empty))\n"
      ],
      "metadata": {
        "colab": {
          "base_uri": "https://localhost:8080/"
        },
        "id": "WGVySoxiWYPP",
        "outputId": "1c4876ff-1eb8-4d6f-e66d-891c3d1d126f"
      },
      "execution_count": 15,
      "outputs": [
        {
          "output_type": "stream",
          "name": "stdout",
          "text": [
            "Empty Directories:\n",
            "0\n"
          ]
        }
      ]
    },
    {
      "cell_type": "code",
      "source": [
        "print(len(train_doc))"
      ],
      "metadata": {
        "colab": {
          "base_uri": "https://localhost:8080/"
        },
        "id": "7JctUnZdCZib",
        "outputId": "f4206362-535a-4060-9eee-9c5e7b25b7d9"
      },
      "execution_count": 16,
      "outputs": [
        {
          "output_type": "stream",
          "name": "stdout",
          "text": [
            "663\n"
          ]
        }
      ]
    },
    {
      "cell_type": "code",
      "source": [
        "#train = generator(train_path, train_doc, 100)\n",
        "#data,label = next(train)"
      ],
      "metadata": {
        "id": "xSC7G1Jli2Ou"
      },
      "execution_count": 16,
      "outputs": []
    },
    {
      "cell_type": "code",
      "source": [
        "#data,label = next(train)"
      ],
      "metadata": {
        "colab": {
          "base_uri": "https://localhost:8080/"
        },
        "id": "JLs5a6UAA_Gb",
        "outputId": "9f9ad7db-29ac-4799-f9ac-141d13b7e201"
      },
      "execution_count": null,
      "outputs": [
        {
          "output_type": "stream",
          "name": "stderr",
          "text": [
            "<ipython-input-124-9c6694632e00>:22: DeprecationWarning: Starting with ImageIO v3 the behavior of this function will switch to that of iio.v3.imread. To keep the current behavior (and make this warning disappear) use `import imageio.v2 as imageio` or call `imageio.v2.imread` directly.\n",
            "  image = imread(source_path  +'/'+ t[folder + (batch*batch_size)].strip().split(';')[0]+'/'+imgs[item]).astype(np.float32)\n"
          ]
        },
        {
          "output_type": "stream",
          "name": "stdout",
          "text": [
            "100\n"
          ]
        }
      ]
    },
    {
      "cell_type": "code",
      "source": [
        "#data,label = next(train)"
      ],
      "metadata": {
        "colab": {
          "base_uri": "https://localhost:8080/"
        },
        "id": "FkphRw50F0HZ",
        "outputId": "d630e429-5ea8-4a83-b7ce-3cde2723a479"
      },
      "execution_count": null,
      "outputs": [
        {
          "output_type": "stream",
          "name": "stderr",
          "text": [
            "<ipython-input-124-9c6694632e00>:22: DeprecationWarning: Starting with ImageIO v3 the behavior of this function will switch to that of iio.v3.imread. To keep the current behavior (and make this warning disappear) use `import imageio.v2 as imageio` or call `imageio.v2.imread` directly.\n",
            "  image = imread(source_path  +'/'+ t[folder + (batch*batch_size)].strip().split(';')[0]+'/'+imgs[item]).astype(np.float32)\n"
          ]
        },
        {
          "output_type": "stream",
          "name": "stdout",
          "text": [
            "100\n"
          ]
        }
      ]
    },
    {
      "cell_type": "code",
      "source": [
        "data,label = next(train)"
      ],
      "metadata": {
        "colab": {
          "base_uri": "https://localhost:8080/"
        },
        "id": "1tIlY4_sGcp4",
        "outputId": "1909df67-fbbf-449f-d240-93fb96ea2d87"
      },
      "execution_count": null,
      "outputs": [
        {
          "output_type": "stream",
          "name": "stderr",
          "text": [
            "<ipython-input-124-9c6694632e00>:22: DeprecationWarning: Starting with ImageIO v3 the behavior of this function will switch to that of iio.v3.imread. To keep the current behavior (and make this warning disappear) use `import imageio.v2 as imageio` or call `imageio.v2.imread` directly.\n",
            "  image = imread(source_path  +'/'+ t[folder + (batch*batch_size)].strip().split(';')[0]+'/'+imgs[item]).astype(np.float32)\n"
          ]
        },
        {
          "output_type": "stream",
          "name": "stdout",
          "text": [
            "100\n"
          ]
        }
      ]
    },
    {
      "cell_type": "code",
      "source": [
        "#data,label = next(train)"
      ],
      "metadata": {
        "colab": {
          "base_uri": "https://localhost:8080/"
        },
        "id": "jefzH0tPH199",
        "outputId": "9b670736-1157-4ae2-faf2-a803d27a55b4"
      },
      "execution_count": null,
      "outputs": [
        {
          "output_type": "stream",
          "name": "stderr",
          "text": [
            "<ipython-input-124-9c6694632e00>:22: DeprecationWarning: Starting with ImageIO v3 the behavior of this function will switch to that of iio.v3.imread. To keep the current behavior (and make this warning disappear) use `import imageio.v2 as imageio` or call `imageio.v2.imread` directly.\n",
            "  image = imread(source_path  +'/'+ t[folder + (batch*batch_size)].strip().split(';')[0]+'/'+imgs[item]).astype(np.float32)\n"
          ]
        },
        {
          "output_type": "stream",
          "name": "stdout",
          "text": [
            "100\n"
          ]
        }
      ]
    },
    {
      "cell_type": "code",
      "source": [
        "#data,label = next(train)"
      ],
      "metadata": {
        "colab": {
          "base_uri": "https://localhost:8080/"
        },
        "id": "W5FNCIVtIzpj",
        "outputId": "e840749d-82b8-4ff1-da5a-915efb2c157f"
      },
      "execution_count": null,
      "outputs": [
        {
          "output_type": "stream",
          "name": "stderr",
          "text": [
            "<ipython-input-124-9c6694632e00>:22: DeprecationWarning: Starting with ImageIO v3 the behavior of this function will switch to that of iio.v3.imread. To keep the current behavior (and make this warning disappear) use `import imageio.v2 as imageio` or call `imageio.v2.imread` directly.\n",
            "  image = imread(source_path  +'/'+ t[folder + (batch*batch_size)].strip().split(';')[0]+'/'+imgs[item]).astype(np.float32)\n"
          ]
        },
        {
          "output_type": "stream",
          "name": "stdout",
          "text": [
            "100\n"
          ]
        }
      ]
    },
    {
      "cell_type": "code",
      "source": [
        "#data,label = next(train)"
      ],
      "metadata": {
        "colab": {
          "base_uri": "https://localhost:8080/"
        },
        "id": "QsuoUoajJO1z",
        "outputId": "4ef5ffc6-6207-46ad-d2fd-8dc783905a66"
      },
      "execution_count": null,
      "outputs": [
        {
          "output_type": "stream",
          "name": "stdout",
          "text": [
            "in extra\n",
            "batch 6\n",
            "num_batches 6\n",
            "63\n"
          ]
        },
        {
          "output_type": "stream",
          "name": "stderr",
          "text": [
            "<ipython-input-124-9c6694632e00>:52: DeprecationWarning: Starting with ImageIO v3 the behavior of this function will switch to that of iio.v3.imread. To keep the current behavior (and make this warning disappear) use `import imageio.v2 as imageio` or call `imageio.v2.imread` directly.\n",
            "  image = imread(source_path  +'/'+ t[folder + (batch*batch_size)].strip().split(';')[0]+'/'+imgs[item]).astype(np.float32)\n"
          ]
        },
        {
          "output_type": "stream",
          "name": "stdout",
          "text": [
            "100\n"
          ]
        }
      ]
    },
    {
      "cell_type": "code",
      "source": [
        "#print(label)"
      ],
      "metadata": {
        "id": "YSSDCvdIHcN7"
      },
      "execution_count": null,
      "outputs": []
    },
    {
      "cell_type": "markdown",
      "metadata": {
        "id": "dc5rSNfI31En"
      },
      "source": [
        "## Model\n",
        "Here you make the model using different functionalities that Keras provides. Remember to use `Conv3D` and `MaxPooling3D` and not `Conv2D` and `Maxpooling2D` for a 3D convolution model. You would want to use `TimeDistributed` while building a Conv2D + RNN model. Also remember that the last layer is the softmax. Design the network in such a way that the model is able to give good accuracy on the least number of parameters so that it can fit in the memory of the webcam."
      ]
    },
    {
      "cell_type": "code",
      "source": [
        "#?layers.Conv2D"
      ],
      "metadata": {
        "colab": {
          "base_uri": "https://localhost:8080/"
        },
        "id": "5zjXBji56Lwz",
        "outputId": "2979971e-68b5-4c32-f29b-0f3c542dfa12"
      },
      "execution_count": null,
      "outputs": [
        {
          "output_type": "stream",
          "name": "stdout",
          "text": [
            "Object `layers.Conv2D` not found.\n"
          ]
        }
      ]
    },
    {
      "cell_type": "code",
      "source": [
        "def make3dFilter(x):\n",
        "    return tuple([x]*3)\n",
        "\n",
        "def make2dFilter(x):\n",
        "    return tuple([x]*2)\n",
        "\n",
        "print(make3dFilter(5))"
      ],
      "metadata": {
        "colab": {
          "base_uri": "https://localhost:8080/"
        },
        "id": "rGWQK4OURkxW",
        "outputId": "f7e0003b-4ea0-4cbc-c641-4e674c6c4f19"
      },
      "execution_count": 17,
      "outputs": [
        {
          "output_type": "stream",
          "name": "stdout",
          "text": [
            "(5, 5, 5)\n"
          ]
        }
      ]
    },
    {
      "cell_type": "markdown",
      "source": [
        "Experiment 1 : Basic model."
      ],
      "metadata": {
        "id": "e0CpQM1rCJRB"
      }
    },
    {
      "cell_type": "code",
      "execution_count": 18,
      "metadata": {
        "id": "PI5KXSPe31Eo"
      },
      "outputs": [],
      "source": [
        "from keras.models import Sequential, Model\n",
        "from keras.layers import Dense, GRU, Flatten, TimeDistributed, Flatten, BatchNormalization, Activation,Dropout\n",
        "from keras.layers.convolutional import Conv3D, MaxPooling3D\n",
        "from keras.callbacks import ModelCheckpoint, ReduceLROnPlateau\n",
        "from keras import optimizers\n",
        "\n",
        "#write your model here\n",
        "inputShape = (15, 120, 120, 3)\n",
        "\n",
        "model = Sequential([\n",
        "        Conv3D(16, make3dFilter(5), activation='relu', input_shape=inputShape),\n",
        "        MaxPooling3D(make3dFilter(2), padding='same'),\n",
        "        BatchNormalization(),\n",
        "\n",
        "        Conv3D(32, make3dFilter(3), activation='relu'),\n",
        "        MaxPooling3D(pool_size=(1,2,2), padding='same'),\n",
        "        BatchNormalization(),\n",
        "\n",
        "        Conv3D(64, make3dFilter(3), activation='relu'),\n",
        "        MaxPooling3D(pool_size=(1,2,2), padding='same'),\n",
        "        BatchNormalization(),\n",
        "\n",
        "        Flatten(),\n",
        "        Dense(128, activation='relu'),\n",
        "        BatchNormalization(),\n",
        "        Dropout(0.25),\n",
        "\n",
        "        Dense(64, activation='relu'),\n",
        "        BatchNormalization(),\n",
        "        Dropout(0.25),\n",
        "\n",
        "        Dense(5, activation='softmax')\n",
        "])\n",
        "#model.compile(optimizer=optimizers.Adam(), loss='categorical_crossentropy', metrics=['categorical_accuracy'])\n",
        "\n",
        "#model.summary()\n",
        "\n",
        "\n",
        "\n"
      ]
    },
    {
      "cell_type": "markdown",
      "metadata": {
        "id": "8bXt92P431Ep"
      },
      "source": [
        "Now that you have written the model, the next step is to `compile` the model. When you print the `summary` of the model, you'll see the total number of parameters you have to train."
      ]
    },
    {
      "cell_type": "code",
      "execution_count": 19,
      "metadata": {
        "scrolled": true,
        "id": "Qo0Xwv7x31Ep",
        "colab": {
          "base_uri": "https://localhost:8080/"
        },
        "outputId": "bac9a28e-945d-4030-fda4-e9e80d7b1ac9"
      },
      "outputs": [
        {
          "output_type": "stream",
          "name": "stdout",
          "text": [
            "Model: \"sequential\"\n",
            "_________________________________________________________________\n",
            " Layer (type)                Output Shape              Param #   \n",
            "=================================================================\n",
            " conv3d (Conv3D)             (None, 11, 116, 116, 16)  6016      \n",
            "                                                                 \n",
            " max_pooling3d (MaxPooling3D  (None, 6, 58, 58, 16)    0         \n",
            " )                                                               \n",
            "                                                                 \n",
            " batch_normalization (BatchN  (None, 6, 58, 58, 16)    64        \n",
            " ormalization)                                                   \n",
            "                                                                 \n",
            " conv3d_1 (Conv3D)           (None, 4, 56, 56, 32)     13856     \n",
            "                                                                 \n",
            " max_pooling3d_1 (MaxPooling  (None, 4, 28, 28, 32)    0         \n",
            " 3D)                                                             \n",
            "                                                                 \n",
            " batch_normalization_1 (Batc  (None, 4, 28, 28, 32)    128       \n",
            " hNormalization)                                                 \n",
            "                                                                 \n",
            " conv3d_2 (Conv3D)           (None, 2, 26, 26, 64)     55360     \n",
            "                                                                 \n",
            " max_pooling3d_2 (MaxPooling  (None, 2, 13, 13, 64)    0         \n",
            " 3D)                                                             \n",
            "                                                                 \n",
            " batch_normalization_2 (Batc  (None, 2, 13, 13, 64)    256       \n",
            " hNormalization)                                                 \n",
            "                                                                 \n",
            " flatten (Flatten)           (None, 21632)             0         \n",
            "                                                                 \n",
            " dense (Dense)               (None, 128)               2769024   \n",
            "                                                                 \n",
            " batch_normalization_3 (Batc  (None, 128)              512       \n",
            " hNormalization)                                                 \n",
            "                                                                 \n",
            " dropout (Dropout)           (None, 128)               0         \n",
            "                                                                 \n",
            " dense_1 (Dense)             (None, 64)                8256      \n",
            "                                                                 \n",
            " batch_normalization_4 (Batc  (None, 64)               256       \n",
            " hNormalization)                                                 \n",
            "                                                                 \n",
            " dropout_1 (Dropout)         (None, 64)                0         \n",
            "                                                                 \n",
            " dense_2 (Dense)             (None, 5)                 325       \n",
            "                                                                 \n",
            "=================================================================\n",
            "Total params: 2,854,053\n",
            "Trainable params: 2,853,445\n",
            "Non-trainable params: 608\n",
            "_________________________________________________________________\n",
            "None\n"
          ]
        }
      ],
      "source": [
        "optimiser = 'adam' #write your optimizer\n",
        "model.compile(optimizer=optimiser, loss='categorical_crossentropy', metrics=['categorical_accuracy'])\n",
        "print (model.summary())"
      ]
    },
    {
      "cell_type": "markdown",
      "metadata": {
        "id": "Cd-3K7fv31Eq"
      },
      "source": [
        "Let us create the `train_generator` and the `val_generator` which will be used in `.fit_generator`."
      ]
    },
    {
      "cell_type": "code",
      "execution_count": 20,
      "metadata": {
        "id": "OEe7KzGu31Eq"
      },
      "outputs": [],
      "source": [
        "train_generator = generator(train_path, train_doc, batch_size)\n",
        "val_generator = generator(val_path, val_doc, batch_size)"
      ]
    },
    {
      "cell_type": "code",
      "execution_count": 21,
      "metadata": {
        "id": "x6YcnFcG31Er",
        "colab": {
          "base_uri": "https://localhost:8080/"
        },
        "outputId": "75224ed9-e1f6-45fa-bf16-492bcf1d1ae1"
      },
      "outputs": [
        {
          "output_type": "stream",
          "name": "stderr",
          "text": [
            "WARNING:tensorflow:`period` argument is deprecated. Please use `save_freq` to specify the frequency in number of batches seen.\n"
          ]
        }
      ],
      "source": [
        "model_name = 'model_init' + '_' + str(curr_dt_time).replace(' ','').replace(':','_') + '/'\n",
        "\n",
        "if not os.path.exists(model_name):\n",
        "    os.mkdir(model_name)\n",
        "\n",
        "filepath = model_name + 'model-{epoch:05d}-{loss:.5f}-{categorical_accuracy:.5f}-{val_loss:.5f}-{val_categorical_accuracy:.5f}.h5'\n",
        "\n",
        "checkpoint = ModelCheckpoint(filepath, monitor='val_loss', verbose=1, save_best_only=False, save_weights_only=False, mode='auto', period=1)\n",
        "\n",
        "LR = ReduceLROnPlateau(monitor='val_loss', factor=0.2, verbose=1, patience=4) # write the REducelronplateau code here\n",
        "callbacks_list = [checkpoint, LR]"
      ]
    },
    {
      "cell_type": "markdown",
      "metadata": {
        "id": "iVc8DQTC31Es"
      },
      "source": [
        "The `steps_per_epoch` and `validation_steps` are used by `fit_generator` to decide the number of next() calls it need to make."
      ]
    },
    {
      "cell_type": "code",
      "execution_count": 22,
      "metadata": {
        "id": "6WrOEoML31Es"
      },
      "outputs": [],
      "source": [
        "if (num_train_sequences%batch_size) == 0:\n",
        "    steps_per_epoch = int(num_train_sequences/batch_size)\n",
        "else:\n",
        "    steps_per_epoch = (num_train_sequences//batch_size) + 1\n",
        "\n",
        "if (num_val_sequences%batch_size) == 0:\n",
        "    validation_steps = int(num_val_sequences/batch_size)\n",
        "else:\n",
        "    validation_steps = (num_val_sequences//batch_size) + 1"
      ]
    },
    {
      "cell_type": "markdown",
      "metadata": {
        "id": "VYUawdRS31Et"
      },
      "source": [
        "Let us now fit the model. This will start training the model and with the help of the checkpoints, you'll be able to save the model at the end of each epoch."
      ]
    },
    {
      "cell_type": "code",
      "execution_count": 29,
      "metadata": {
        "id": "urnJh7D-31Eu",
        "colab": {
          "base_uri": "https://localhost:8080/"
        },
        "outputId": "d78e7f60-f878-4aa5-811e-2338e7b191be"
      },
      "outputs": [
        {
          "output_type": "stream",
          "name": "stderr",
          "text": [
            "<ipython-input-29-da80cae902a7>:1: UserWarning: `Model.fit_generator` is deprecated and will be removed in a future version. Please use `Model.fit`, which supports generators.\n",
            "  exp1 = model.fit_generator(train_generator, steps_per_epoch=steps_per_epoch, epochs=num_epochs, verbose=1,\n",
            "<ipython-input-13-37504fb0bfd8>:22: DeprecationWarning: Starting with ImageIO v3 the behavior of this function will switch to that of iio.v3.imread. To keep the current behavior (and make this warning disappear) use `import imageio.v2 as imageio` or call `imageio.v2.imread` directly.\n",
            "  image = imread(source_path  +'/'+ t[folder + (batch*batch_size)].strip().split(';')[0]+'/'+imgs[item]).astype(np.float32)\n"
          ]
        },
        {
          "output_type": "stream",
          "name": "stdout",
          "text": [
            "Epoch 1/5\n",
            "65/67 [============================>.] - ETA: 2s - loss: 0.8373 - categorical_accuracy: 0.6862"
          ]
        },
        {
          "output_type": "stream",
          "name": "stderr",
          "text": [
            "<ipython-input-13-37504fb0bfd8>:52: DeprecationWarning: Starting with ImageIO v3 the behavior of this function will switch to that of iio.v3.imread. To keep the current behavior (and make this warning disappear) use `import imageio.v2 as imageio` or call `imageio.v2.imread` directly.\n",
            "  image = imread(source_path  +'/'+ t[folder + (batch*batch_size)].strip().split(';')[0]+'/'+imgs[item]).astype(np.float32)\n"
          ]
        },
        {
          "output_type": "stream",
          "name": "stdout",
          "text": [
            "10\n",
            "67/67 [==============================] - ETA: 0s - loss: 0.8373 - categorical_accuracy: 0.6776\n",
            "Epoch 1: saving model to model_init_2023-09-0208_39_37.183022/model-00001-0.83726-0.67761-4.74019-0.23000.h5\n",
            "67/67 [==============================] - 86s 1s/step - loss: 0.8373 - categorical_accuracy: 0.6776 - val_loss: 4.7402 - val_categorical_accuracy: 0.2300 - lr: 0.0010\n",
            "Epoch 2/5\n",
            "65/67 [============================>.] - ETA: 2s - loss: 0.7931 - categorical_accuracy: 0.704610\n",
            "67/67 [==============================] - ETA: 0s - loss: 0.8054 - categorical_accuracy: 0.6940\n",
            "Epoch 2: saving model to model_init_2023-09-0208_39_37.183022/model-00002-0.80536-0.69403-16.22771-0.27000.h5\n",
            "67/67 [==============================] - 83s 1s/step - loss: 0.8054 - categorical_accuracy: 0.6940 - val_loss: 16.2277 - val_categorical_accuracy: 0.2700 - lr: 0.0010\n",
            "Epoch 3/5\n",
            "65/67 [============================>.] - ETA: 2s - loss: 0.8754 - categorical_accuracy: 0.656910\n",
            "67/67 [==============================] - ETA: 0s - loss: 0.8675 - categorical_accuracy: 0.6478\n",
            "Epoch 3: saving model to model_init_2023-09-0208_39_37.183022/model-00003-0.86748-0.64776-2.28642-0.33000.h5\n",
            "67/67 [==============================] - 85s 1s/step - loss: 0.8675 - categorical_accuracy: 0.6478 - val_loss: 2.2864 - val_categorical_accuracy: 0.3300 - lr: 0.0010\n",
            "Epoch 4/5\n",
            "65/67 [============================>.] - ETA: 2s - loss: 0.7146 - categorical_accuracy: 0.729210\n",
            "67/67 [==============================] - ETA: 0s - loss: 0.7203 - categorical_accuracy: 0.7224\n",
            "Epoch 4: saving model to model_init_2023-09-0208_39_37.183022/model-00004-0.72035-0.72239-1.17084-0.52000.h5\n",
            "67/67 [==============================] - 82s 1s/step - loss: 0.7203 - categorical_accuracy: 0.7224 - val_loss: 1.1708 - val_categorical_accuracy: 0.5200 - lr: 0.0010\n",
            "Epoch 5/5\n",
            "65/67 [============================>.] - ETA: 2s - loss: 0.6002 - categorical_accuracy: 0.772310\n",
            "67/67 [==============================] - ETA: 0s - loss: 0.6046 - categorical_accuracy: 0.7642\n",
            "Epoch 5: saving model to model_init_2023-09-0208_39_37.183022/model-00005-0.60459-0.76418-1.24280-0.57000.h5\n",
            "67/67 [==============================] - 83s 1s/step - loss: 0.6046 - categorical_accuracy: 0.7642 - val_loss: 1.2428 - val_categorical_accuracy: 0.5700 - lr: 0.0010\n"
          ]
        }
      ],
      "source": [
        "exp1 = model.fit_generator(train_generator, steps_per_epoch=steps_per_epoch, epochs=num_epochs, verbose=1,\n",
        "                    callbacks=callbacks_list, validation_data=val_generator,\n",
        "                    validation_steps=validation_steps, class_weight=None, workers=1, initial_epoch=0)"
      ]
    },
    {
      "cell_type": "code",
      "execution_count": 30,
      "metadata": {
        "id": "nXCLQxNo31Eu"
      },
      "outputs": [],
      "source": [
        "import matplotlib.pyplot as plt\n",
        "\n",
        "def plotModelHistory(h):\n",
        "    fig, ax = plt.subplots(1, 2, figsize=(15,4))\n",
        "    ax[0].plot(h.history['loss'])\n",
        "    ax[0].plot(h.history['val_loss'])\n",
        "    ax[0].legend(['loss','val_loss'])\n",
        "    ax[0].title.set_text(\"Train loss vs Validation loss\")\n",
        "\n",
        "    ax[1].plot(h.history['categorical_accuracy'])\n",
        "    ax[1].plot(h.history['val_categorical_accuracy'])\n",
        "    ax[1].legend(['categorical_accuracy','val_categorical_accuracy'])\n",
        "    ax[1].title.set_text(\"Train accuracy vs Validation accuracy\")\n",
        "    plt.show()\n",
        "\n",
        "    print(\"Max. Training Accuracy\", max(h.history['categorical_accuracy']))\n",
        "    print(\"Max. Validaiton Accuracy\", max(h.history['val_categorical_accuracy']))"
      ]
    },
    {
      "cell_type": "code",
      "source": [
        "plotModelHistory(exp1)"
      ],
      "metadata": {
        "id": "u-LQ6brsYuNK",
        "colab": {
          "base_uri": "https://localhost:8080/",
          "height": 246
        },
        "outputId": "9a7c4dd0-2a31-45cd-ca25-47de564f4737"
      },
      "execution_count": 31,
      "outputs": [
        {
          "output_type": "display_data",
          "data": {
            "text/plain": [
              "<Figure size 1500x400 with 2 Axes>"
            ],
            "image/png": "[encoded data removed]"
          },
          "metadata": {}
        },
        {
          "output_type": "stream",
          "name": "stdout",
          "text": [
            "Max. Training Accuracy 0.7641791105270386\n",
            "Max. Validaiton Accuracy 0.5699999928474426\n"
          ]
        }
      ]
    },
    {
      "cell_type": "markdown",
      "source": [
        "Experiment 2"
      ],
      "metadata": {
        "id": "pJRlT-f8D9CW"
      }
    },
    {
      "cell_type": "code",
      "source": [],
      "metadata": {
        "id": "LbuHRF_dDy6w"
      },
      "execution_count": null,
      "outputs": []
    }
  ],
  "metadata": {
    "kernelspec": {
      "display_name": "Python 3",
      "name": "python3"
    },
    "language_info": {
      "codemirror_mode": {
        "name": "ipython",
        "version": 3
      },
      "file_extension": ".py",
      "mimetype": "text/x-python",
      "name": "python",
      "nbconvert_exporter": "python",
      "pygments_lexer": "ipython3",
      "version": "3.6.5"
    },
    "colab": {
      "provenance": [],
      "machine_shape": "hm",
      "gpuType": "T4",
      "include_colab_link": true
    },
    "accelerator": "GPU"
  },
  "nbformat": 4,
  "nbformat_minor": 0
}