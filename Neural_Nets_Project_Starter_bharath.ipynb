{
  "cells": [
    {
      "cell_type": "markdown",
      "metadata": {
        "id": "view-in-github",
        "colab_type": "text"
      },
      "source": [
        "<a href=\"https://colab.research.google.com/github/SIVASKANDAN-P/GESTURE_RECOGNITION/blob/main/Neural_Nets_Project_Starter_bharath.ipynb\" target=\"_parent\"><img src=\"https://colab.research.google.com/assets/colab-badge.svg\" alt=\"Open In Colab\"/></a>"
      ]
    },
    {
      "cell_type": "markdown",
      "metadata": {
        "id": "4sawJV_5K_x6"
      },
      "source": [
        "# Gesture Recognition\n",
        "In this group project, you are going to build a 3D Conv model that will be able to predict the 5 gestures correctly. Please import the following libraries to get started."
      ]
    },
    {
      "cell_type": "code",
      "execution_count": 70,
      "metadata": {
        "colab": {
          "base_uri": "https://localhost:8080/"
        },
        "id": "xgIVyEQ4LBZA",
        "outputId": "328cdf22-7a27-4af1-fe65-8640607b5e4d"
      },
      "outputs": [
        {
          "output_type": "stream",
          "name": "stdout",
          "text": [
            "Python version:  3.10.12\n",
            "TensorFlow version:  2.12.0\n",
            "GPU not found. Running on CPU.\n"
          ]
        }
      ],
      "source": [
        "# Running on GPU\n",
        "\n",
        "import platform\n",
        "import tensorflow as tf\n",
        "\n",
        "print(\"Python version: \", platform.python_version())\n",
        "print(\"TensorFlow version: \", tf.__version__)\n",
        "\n",
        "device_name = tf.test.gpu_device_name()\n",
        "if device_name != '/device:GPU:0':\n",
        "    print('GPU not found. Running on CPU.')\n",
        "else:\n",
        "    print('GPU found. Running on GPU.')"
      ]
    },
    {
      "cell_type": "code",
      "execution_count": 71,
      "metadata": {
        "colab": {
          "base_uri": "https://localhost:8080/"
        },
        "id": "mSMemTBiLXvw",
        "outputId": "92770f80-f177-4e88-dacc-95d63ed1c7cc"
      },
      "outputs": [
        {
          "output_type": "stream",
          "name": "stdout",
          "text": [
            "Requirement already satisfied: imageio in /usr/local/lib/python3.10/dist-packages (2.31.1)\n",
            "Requirement already satisfied: numpy in /usr/local/lib/python3.10/dist-packages (from imageio) (1.23.5)\n",
            "Requirement already satisfied: pillow>=8.3.2 in /usr/local/lib/python3.10/dist-packages (from imageio) (9.4.0)\n"
          ]
        }
      ],
      "source": [
        "!pip install imageio"
      ]
    },
    {
      "cell_type": "code",
      "execution_count": 73,
      "metadata": {
        "id": "phRPEtO4K_x8"
      },
      "outputs": [],
      "source": [
        "import numpy as np\n",
        "import os\n",
        "# from scipy.misc import imread, imresize\n",
        "from skimage.transform import resize\n",
        "from imageio import imread\n",
        "import imageio\n",
        "import datetime\n",
        "import os\n",
        "import warnings\n",
        "warnings.filterwarnings('ignore')\n"
      ]
    },
    {
      "cell_type": "markdown",
      "metadata": {
        "id": "rNz67W2HK_x9"
      },
      "source": [
        "We set the random seed so that the results don't vary drastically."
      ]
    },
    {
      "cell_type": "code",
      "execution_count": 74,
      "metadata": {
        "id": "zEsCXFXtK_x-"
      },
      "outputs": [],
      "source": [
        "np.random.seed(30)\n",
        "import random as rn\n",
        "rn.seed(30)\n",
        "from keras import backend as K\n",
        "import tensorflow as tf\n",
        "# tf.set_random_seed(30)\n",
        "tf.random.set_seed(30)"
      ]
    },
    {
      "cell_type": "markdown",
      "metadata": {
        "id": "Np4XHrNUK_x-"
      },
      "source": [
        "In this block, you read the folder names for training and validation. You also set the `batch_size` here. Note that you set the batch size in such a way that you are able to use the GPU in full capacity. You keep increasing the batch size until the machine throws an error."
      ]
    },
    {
      "cell_type": "code",
      "execution_count": 75,
      "metadata": {
        "id": "rHivD4ZpK_x-"
      },
      "outputs": [],
      "source": [
        "#train_doc = np.random.permutation(open('/content/drive/My Drive/Project_data/train.csv').readlines())\n",
        "#val_doc = np.random.permutation(open('/content/drive/My Drive/Project_data/val.csv').readlines())\n",
        "train_doc = np.random.permutation(open('/content/drive/MyDrive/gesture recognition/Project_data/train.csv').readlines())\n",
        "val_doc = np.random.permutation(open('/content/drive/MyDrive/gesture recognition/Project_data/val.csv').readlines())\n",
        "batch_size = 10 # experiment with the batch size"
      ]
    },
    {
      "cell_type": "code",
      "execution_count": 76,
      "metadata": {
        "id": "SgDl0xVSWNQj"
      },
      "outputs": [],
      "source": [
        "# np.random.seed(5)\n",
        "# random_numbers = np.random.randint(0, 30, size=18)\n",
        "# random_numbers"
      ]
    },
    {
      "cell_type": "code",
      "execution_count": 77,
      "metadata": {
        "id": "VtrNSyl4XcPL"
      },
      "outputs": [],
      "source": [
        "# samples_per_folder = 18\n",
        "\n",
        "# def batchsize(folder_list):\n",
        "#   result = math.ceil(folder_list.length *  samples_per_folder / batch_size)\n",
        "#   print('result is =', result)"
      ]
    },
    {
      "cell_type": "code",
      "execution_count": 78,
      "metadata": {
        "id": "a1wV8Ujt560w"
      },
      "outputs": [],
      "source": [
        "# batch_size = 10 # experiment with the batch size\n",
        "# selecting alternate frames\n",
        "# seq_idx =  np.round(np.linspace(0, 29, 20)).astype(int)\n",
        "# image dimensions\n",
        "# dim_x, dim_y = 120, 120"
      ]
    },
    {
      "cell_type": "code",
      "execution_count": 79,
      "metadata": {
        "colab": {
          "base_uri": "https://localhost:8080/"
        },
        "id": "ZMSQr8qVuie-",
        "outputId": "d63d7eb9-c78b-44e7-800a-e421a7d86e63"
      },
      "outputs": [
        {
          "output_type": "stream",
          "name": "stdout",
          "text": [
            "# img_tensor = [array([ 0,  2,  3,  5,  6,  8,  9, 11, 12, 14, 15, 17, 18, 20, 21, 23, 24,\n",
            "       26, 27, 29]), 120, 120, 3]\n"
          ]
        }
      ],
      "source": [
        "def getImgTensor(n_frames):\n",
        "    img_idx = np.round(np.linspace(0, 29, n_frames)).astype(int)\n",
        "    return [img_idx, 120, 120, 3]\n",
        "\n",
        "# define image tensor size\n",
        "img_tensor = getImgTensor(20)\n",
        "print ('# img_tensor =', img_tensor)"
      ]
    },
    {
      "cell_type": "code",
      "execution_count": 80,
      "metadata": {
        "id": "LU48hYcLyJF6"
      },
      "outputs": [],
      "source": [
        "def cropResize(image, y, z):\n",
        "    h, w = image.shape\n",
        "\n",
        "    # if smaller image crop at center for 120x120\n",
        "    if w == 160:\n",
        "        image = image[:120, 20:140]\n",
        "\n",
        "    # resize every image\n",
        "    return resize(image, (y,z))"
      ]
    },
    {
      "cell_type": "code",
      "source": [],
      "metadata": {
        "id": "3BRffb5aqcTp"
      },
      "execution_count": 80,
      "outputs": []
    },
    {
      "cell_type": "code",
      "execution_count": 81,
      "metadata": {
        "id": "JT0VSSh_DZOV"
      },
      "outputs": [],
      "source": [
        "def normalizeImage(image):\n",
        "    # applying normalization\n",
        "    return image/255.0"
      ]
    },
    {
      "cell_type": "code",
      "execution_count": 82,
      "metadata": {
        "id": "12jNyoU7EuS0"
      },
      "outputs": [],
      "source": [
        "def preprocessImage(image, y, z):\n",
        "    return normalizeImage(cropResize(image, y, z))"
      ]
    },
    {
      "cell_type": "code",
      "execution_count": 83,
      "metadata": {
        "id": "dOiNUJNGd8nw"
      },
      "outputs": [],
      "source": [
        "def genhelper(source_path, folder_list, batch_size, img_tensor, t, batch):\n",
        "  [x,y,z] = [len(img_tensor[0]),img_tensor[1], img_tensor[2]]\n",
        "  # img_idx = [1,4,5,6,7,9,21]\n",
        "  # print('IMG tensor ...', img_tensor[0])\n",
        "  img_idx = img_tensor[0]\n",
        "  # print('IMG DX list', img_idx)\n",
        "  batch_data = np.zeros((batch_size,x,y,z,3)) # x is the number of images you use for each video, (y,z) is the final size of the input images and 3 is the number of channels RGB\n",
        "  batch_labels = np.zeros((batch_size,5)) # batch_labels is the one hot representation of the output\n",
        "  for folder in range(batch_size): # iterate over the batch_size\n",
        "                imgs = os.listdir(source_path+'/'+ t[folder + (batch*batch_size)].split(';')[0]) # read all the images in the folder\n",
        "                # print(' Foder currently reading : ='+ source_path+'/'+ t[folder + (batch*batch_size)].split(';')[0])\n",
        "                # print('IMGS...', imgs)\n",
        "\n",
        "                for idx,item in enumerate(img_idx): #  Iterate iver the frames/images of a folder to read them in\n",
        "                    # print('image index count : = ', idx , ' ; item =', item)\n",
        "                    # print('Batch: = ', batch , ' ; Batch size: =', batch_size , ' ; index =' , batch*batch_size)\n",
        "                    image = imread(source_path+'/'+ t[folder + (batch*batch_size)].strip().split(';')[0]+'/'+imgs[item]).astype(np.float32)\n",
        "\n",
        "                    #crop the images and resize them. Note that the images are of 2 different shape\n",
        "                    #and the conv3D will throw error if the inputs in a batch have different shapes\n",
        "\n",
        "                    batch_data[folder,idx,:,:,0] = preprocessImage(image[:, :, 0], y, z) #normalise and feed in the image\n",
        "                    batch_data[folder,idx,:,:,1] = preprocessImage(image[:, :, 1], y, z) #normalise and feed in the image\n",
        "                    batch_data[folder,idx,:,:,2] = preprocessImage(image[:, :, 2], y, z) #normalise and feed in the image\n",
        "\n",
        "                batch_labels[folder, int(t[folder + (batch*batch_size)].strip().split(';')[2])] = 1\n",
        "  return batch_data, batch_labels #you yield the batch_data and the batch_labels, remember what does yield do\n",
        "\n",
        "        # write the code for the remaining data points which are left after full batches\n"
      ]
    },
    {
      "cell_type": "markdown",
      "metadata": {
        "id": "BOkg6cJzK_x-"
      },
      "source": [
        "## Generator\n",
        "This is one of the most important part of the code. The overall structure of the generator has been given. In the generator, you are going to preprocess the images as you have images of 2 different dimensions as well as create a batch of video frames. You have to experiment with `img_idx`, `y`,`z` and normalization such that you get high accuracy."
      ]
    },
    {
      "cell_type": "code",
      "execution_count": 84,
      "metadata": {
        "id": "XdYPnHbWK_x_"
      },
      "outputs": [],
      "source": [
        "def generator(source_path, folder_list, batch_size, img_tensor):\n",
        "    print( 'Source path = ', source_path, '; batch size =', batch_size)\n",
        "    # print('folder list length = ', folder_list)\n",
        "    # [x,y,z] = [len(img_tensor[0]),img_tensor[1], img_tensor[2]]\n",
        "    # img_idx = img_tensor[0]\n",
        "\n",
        "    while True:\n",
        "        t = np.random.permutation(folder_list)\n",
        "        num_batches = int(len(folder_list)/batch_size) # calculate the number of batches\n",
        "        print('; Num of batches =', num_batches)\n",
        "        for batch in range(num_batches): # we iterate over the number of batches\n",
        "            # print('; Current Batch =', batch)\n",
        "            yield genhelper(source_path, folder_list, batch_size, img_tensor, t, batch)#you yield the batch_data and the batch_labels, remember what does yield do\n",
        "\n",
        "\n",
        "        # write the code for the remaining data points which are left after full batches\n",
        "        if len(folder_list)%batch_size != 0:\n",
        "          batch_size = len(folder_list)%batch_size\n",
        "          yield genhelper(source_path, folder_list, batch_size, img_tensor, t, batch)#you yield the batch_data and the batch_labels, remember what does yield do"
      ]
    },
    {
      "cell_type": "markdown",
      "metadata": {
        "id": "Vwj3-x5pK_x_"
      },
      "source": [
        "Note here that a video is represented above in the generator as (number of images, height, width, number of channels). Take this into consideration while creating the model architecture."
      ]
    },
    {
      "cell_type": "code",
      "execution_count": 85,
      "metadata": {
        "colab": {
          "base_uri": "https://localhost:8080/"
        },
        "id": "4WqlDzAsK_yA",
        "outputId": "372ef1e8-35ee-409c-e935-d8f39c22dffe"
      },
      "outputs": [
        {
          "output_type": "stream",
          "name": "stdout",
          "text": [
            "# training sequences = 663\n",
            "# validation sequences = 100\n",
            "# epochs = 10\n"
          ]
        }
      ],
      "source": [
        "curr_dt_time = datetime.datetime.now()\n",
        "#train_path = '/content/drive/My Drive/Project_data/train'\n",
        "#val_path = '/content/drive/My Drive/Project_data/val'\n",
        "train_path = '/content/drive/MyDrive/gesture recognition/Project_data/train'\n",
        "val_path = '/content/drive/MyDrive/gesture recognition/Project_data/val'\n",
        "num_train_sequences = len(train_doc)\n",
        "print('# training sequences =', num_train_sequences)\n",
        "num_val_sequences = len(val_doc)\n",
        "print('# validation sequences =', num_val_sequences)\n",
        "num_epochs = 10\n",
        "print ('# epochs =', num_epochs)"
      ]
    },
    {
      "cell_type": "markdown",
      "source": [
        "Testing if the generator code is working properly."
      ],
      "metadata": {
        "id": "15TD0FleS22i"
      }
    },
    {
      "cell_type": "code",
      "execution_count": 86,
      "metadata": {
        "id": "7OLuBnXlsBam",
        "colab": {
          "base_uri": "https://localhost:8080/"
        },
        "outputId": "d205580b-fbe1-47fb-adad-4917c518a02c"
      },
      "outputs": [
        {
          "output_type": "stream",
          "name": "stdout",
          "text": [
            "Source path =  /content/drive/MyDrive/gesture recognition/Project_data/train ; batch size = 32\n",
            "; Num of batches = 20\n",
            "(32, 20, 120, 120, 3)\n"
          ]
        }
      ],
      "source": [
        "# check complete batch shape\n",
        "sample_generator = generator(train_path, train_doc, 32, img_tensor)\n",
        "sample_batch_data, sample_batch_labels = next(sample_generator)\n",
        "print(sample_batch_data.shape)"
      ]
    },
    {
      "cell_type": "code",
      "execution_count": 87,
      "metadata": {
        "id": "aeespUvo9fYD",
        "colab": {
          "base_uri": "https://localhost:8080/"
        },
        "outputId": "14f74b59-c6b7-487a-a279-17ad4b0b45cc"
      },
      "outputs": [
        {
          "output_type": "stream",
          "name": "stdout",
          "text": [
            "Source path =  /content/drive/MyDrive/gesture recognition/Project_data/val ; batch size = 10\n",
            "; Num of batches = 10\n",
            "(10, 20, 120, 120, 3)\n"
          ]
        }
      ],
      "source": [
        "# validation batch sample\n",
        "sample_val_generator = generator(val_path, val_doc, batch_size, img_tensor)\n",
        "sample_val_batch_data, sample_val_batch_labels = next(sample_val_generator)\n",
        "print(sample_val_batch_data.shape)"
      ]
    },
    {
      "cell_type": "markdown",
      "source": [
        "It is working as expected."
      ],
      "metadata": {
        "id": "3nS0wP-pS-Bn"
      }
    },
    {
      "cell_type": "code",
      "execution_count": 88,
      "metadata": {
        "colab": {
          "base_uri": "https://localhost:8080/"
        },
        "id": "8icHtw2KLYVK",
        "outputId": "adbea100-e42d-4fc6-8801-f6cdbd0ebbe3"
      },
      "outputs": [
        {
          "output_type": "stream",
          "name": "stdout",
          "text": [
            "(5, 5)\n"
          ]
        }
      ],
      "source": [
        "def make3dFilter(x):\n",
        "    return tuple([x]*3)\n",
        "\n",
        "def make2dFilter(x):\n",
        "    return tuple([x]*2)\n",
        "\n",
        "print(make2dFilter(5))"
      ]
    },
    {
      "cell_type": "code",
      "execution_count": 89,
      "metadata": {
        "colab": {
          "base_uri": "https://localhost:8080/"
        },
        "id": "UqbaQtkrMaYg",
        "outputId": "e6575d33-7c50-4be1-a3cb-7ba2f7424e2d"
      },
      "outputs": [
        {
          "output_type": "stream",
          "name": "stdout",
          "text": [
            "(20, 120, 120, 3)\n"
          ]
        }
      ],
      "source": [
        " inputShape = (len(img_tensor[0]), img_tensor[1], img_tensor[2], img_tensor[3])\n",
        " print(inputShape)"
      ]
    },
    {
      "cell_type": "markdown",
      "metadata": {
        "id": "2pZZSKluK_yA"
      },
      "source": [
        "## Model\n",
        "Here you make the model using different functionalities that Keras provides. Remember to use `Conv3D` and `MaxPooling3D` and not `Conv2D` and `Maxpooling2D` for a 3D convolution model. You would want to use `TimeDistributed` while building a Conv2D + RNN model. Also remember that the last layer is the softmax. Design the network in such a way that the model is able to give good accuracy on the least number of parameters so that it can fit in the memory of the webcam."
      ]
    },
    {
      "cell_type": "code",
      "execution_count": 90,
      "metadata": {
        "id": "rcliwfdpK_yA"
      },
      "outputs": [],
      "source": [
        "from keras.models import Sequential, Model\n",
        "from keras.layers import Dense, GRU, Flatten, TimeDistributed, Flatten, BatchNormalization, Activation, Dropout, LSTM\n",
        "from keras.layers.convolutional import Conv3D, MaxPooling3D, Conv2D, MaxPooling2D\n",
        "from keras.callbacks import ModelCheckpoint, ReduceLROnPlateau\n",
        "from keras import optimizers\n",
        "\n",
        "# #write your model here\n",
        "\n",
        "# # Create a Sequential model\n",
        "# model = Sequential()\n",
        "\n",
        "# # Add Conv3D layer\n",
        "# model.add(Conv3D(filters=16, kernel_size=(5, 5, 5), activation='relu', input_shape=(inputShape)))\n",
        "\n",
        "# # Add Conv3D layer\n",
        "# model.add(Conv3D(filters=32, kernel_size=(3, 3, 3), activation='relu'))\n",
        "\n",
        "# # Add Conv3D layer\n",
        "# model.add(Conv3D(filters=64, kernel_size=(3, 3, 3), activation='relu'))\n",
        "\n",
        "# # Add MaxPooling3D layer\n",
        "# model.add(MaxPooling3D(pool_size=(2, 2, 2)))\n",
        "\n",
        "# # Add Flatten layer\n",
        "# model.add(Flatten())\n",
        "\n",
        "# # Add Dense layers\n",
        "# model.add(Dense(128, activation='relu'))\n",
        "# model.add(Dense(64, activation='softmax'))  # num_classes is the number of classes in your problem\n",
        "\n",
        "# Compile the model\n",
        "# model.compile(loss='categorical_crossentropy', optimizer='adam', metrics=['accuracy'])\n",
        "\n"
      ]
    },
    {
      "cell_type": "markdown",
      "metadata": {
        "id": "WOJ42LwtK_yB"
      },
      "source": [
        "Now that you have written the model, the next step is to `compile` the model. When you print the `summary` of the model, you'll see the total number of parameters you have to train."
      ]
    },
    {
      "cell_type": "code",
      "execution_count": 22,
      "metadata": {
        "id": "M5VWkJPVK_yB",
        "scrolled": true
      },
      "outputs": [],
      "source": [
        "# optimiser = 'adam'\n",
        "# model.compile(optimizer=optimiser, loss='categorical_crossentropy', metrics=['categorical_accuracy'])\n",
        "# print (model.summary())"
      ]
    },
    {
      "cell_type": "code",
      "execution_count": 23,
      "metadata": {
        "colab": {
          "base_uri": "https://localhost:8080/"
        },
        "id": "_rD2l9GOhEpS",
        "outputId": "87194792-1a88-41ec-d27a-69acc28699b9"
      },
      "outputs": [
        {
          "output_type": "stream",
          "name": "stdout",
          "text": [
            "Model: \"sequential\"\n",
            "_________________________________________________________________\n",
            " Layer (type)                Output Shape              Param #   \n",
            "=================================================================\n",
            " conv3d (Conv3D)             (None, 16, 116, 116, 16)  6016      \n",
            "                                                                 \n",
            " max_pooling3d (MaxPooling3D  (None, 8, 58, 58, 16)    0         \n",
            " )                                                               \n",
            "                                                                 \n",
            " batch_normalization (BatchN  (None, 8, 58, 58, 16)    64        \n",
            " ormalization)                                                   \n",
            "                                                                 \n",
            " conv3d_1 (Conv3D)           (None, 6, 56, 56, 32)     13856     \n",
            "                                                                 \n",
            " max_pooling3d_1 (MaxPooling  (None, 6, 28, 28, 32)    0         \n",
            " 3D)                                                             \n",
            "                                                                 \n",
            " batch_normalization_1 (Batc  (None, 6, 28, 28, 32)    128       \n",
            " hNormalization)                                                 \n",
            "                                                                 \n",
            " conv3d_2 (Conv3D)           (None, 4, 26, 26, 64)     55360     \n",
            "                                                                 \n",
            " max_pooling3d_2 (MaxPooling  (None, 4, 13, 13, 64)    0         \n",
            " 3D)                                                             \n",
            "                                                                 \n",
            " batch_normalization_2 (Batc  (None, 4, 13, 13, 64)    256       \n",
            " hNormalization)                                                 \n",
            "                                                                 \n",
            " flatten (Flatten)           (None, 43264)             0         \n",
            "                                                                 \n",
            " dense (Dense)               (None, 128)               5537920   \n",
            "                                                                 \n",
            " batch_normalization_3 (Batc  (None, 128)              512       \n",
            " hNormalization)                                                 \n",
            "                                                                 \n",
            " dropout (Dropout)           (None, 128)               0         \n",
            "                                                                 \n",
            " dense_1 (Dense)             (None, 64)                8256      \n",
            "                                                                 \n",
            " batch_normalization_4 (Batc  (None, 64)               256       \n",
            " hNormalization)                                                 \n",
            "                                                                 \n",
            " dropout_1 (Dropout)         (None, 64)                0         \n",
            "                                                                 \n",
            " dense_2 (Dense)             (None, 5)                 325       \n",
            "                                                                 \n",
            "=================================================================\n",
            "Total params: 5,622,949\n",
            "Trainable params: 5,622,341\n",
            "Non-trainable params: 608\n",
            "_________________________________________________________________\n"
          ]
        }
      ],
      "source": [
        "def defineModel(img_tensor):\n",
        "    inputShape = (len(img_tensor[0]), img_tensor[1], img_tensor[2], img_tensor[3])\n",
        "\n",
        "    model = Sequential([\n",
        "        Conv3D(16, make3dFilter(5), activation='relu', input_shape=inputShape),\n",
        "        MaxPooling3D(make3dFilter(2), padding='same'),\n",
        "        BatchNormalization(),\n",
        "\n",
        "        Conv3D(32, make3dFilter(3), activation='relu'),\n",
        "        MaxPooling3D(pool_size=(1,2,2), padding='same'),\n",
        "        BatchNormalization(),\n",
        "\n",
        "        Conv3D(64, make3dFilter(3), activation='relu'),\n",
        "        MaxPooling3D(pool_size=(1,2,2), padding='same'),\n",
        "        BatchNormalization(),\n",
        "\n",
        "        Flatten(),\n",
        "        Dense(128, activation='relu'),\n",
        "        BatchNormalization(),\n",
        "        Dropout(0.25),\n",
        "\n",
        "        Dense(64, activation='relu'),\n",
        "        BatchNormalization(),\n",
        "        Dropout(0.25),\n",
        "\n",
        "        Dense(5, activation='softmax')\n",
        "    ])\n",
        "    model.compile(optimizer=optimizers.Adam(), loss='categorical_crossentropy', metrics=['categorical_accuracy'])\n",
        "    return model\n",
        "\n",
        "model = defineModel(img_tensor)\n",
        "model.summary()"
      ]
    },
    {
      "cell_type": "markdown",
      "metadata": {
        "id": "zBJtILzoK_yB"
      },
      "source": [
        "Let us create the `train_generator` and the `val_generator` which will be used in `.fit_generator`."
      ]
    },
    {
      "cell_type": "markdown",
      "source": [
        "/content/model_init_2023-09-0403_45_48.436660"
      ],
      "metadata": {
        "id": "iBtG0TNkrpsG"
      }
    },
    {
      "cell_type": "code",
      "execution_count": 91,
      "metadata": {
        "id": "gPJqw0EmK_yB"
      },
      "outputs": [],
      "source": [
        "#defining train generator\n",
        "train_generator = generator(train_path, train_doc, batch_size, img_tensor)\n",
        "#defining val generator\n",
        "val_generator = generator(val_path, val_doc, batch_size, img_tensor)"
      ]
    },
    {
      "cell_type": "code",
      "execution_count": 92,
      "metadata": {
        "colab": {
          "base_uri": "https://localhost:8080/"
        },
        "id": "xfMSHnHHK_yB",
        "outputId": "cbac3e36-5d4d-4dc0-c502-cfeecd3abc8f"
      },
      "outputs": [
        {
          "output_type": "stream",
          "name": "stderr",
          "text": [
            "WARNING:tensorflow:`period` argument is deprecated. Please use `save_freq` to specify the frequency in number of batches seen.\n"
          ]
        }
      ],
      "source": [
        "model_name = 'model_init' + '_' + str(curr_dt_time).replace(' ','').replace(':','_') + '/'\n",
        "\n",
        "if not os.path.exists(model_name):\n",
        "    os.mkdir(model_name)\n",
        "\n",
        "filepath = model_name + 'model-{epoch:05d}-{loss:.5f}-{categorical_accuracy:.5f}-{val_loss:.5f}-{val_categorical_accuracy:.5f}.h5'\n",
        "\n",
        "checkpoint = ModelCheckpoint(filepath, monitor='val_loss', verbose=1, save_best_only=False, save_weights_only=False, mode='auto', period=1)\n",
        "\n",
        "LR = ReduceLROnPlateau(monitor='val_loss', factor=0.2, verbose=1, patience=4)# write the REducelronplateau code here\n",
        "callbacks_list = [checkpoint, LR]"
      ]
    },
    {
      "cell_type": "markdown",
      "metadata": {
        "id": "e23DAZfCK_yC"
      },
      "source": [
        "The `steps_per_epoch` and `validation_steps` are used by `fit_generator` to decide the number of next() calls it need to make."
      ]
    },
    {
      "cell_type": "code",
      "execution_count": 93,
      "metadata": {
        "id": "e_67QZIrK_yC"
      },
      "outputs": [],
      "source": [
        "if (num_train_sequences%batch_size) == 0:\n",
        "    steps_per_epoch = int(num_train_sequences/batch_size)\n",
        "else:\n",
        "    steps_per_epoch = (num_train_sequences//batch_size) + 1\n",
        "\n",
        "if (num_val_sequences%batch_size) == 0:\n",
        "    validation_steps = int(num_val_sequences/batch_size)\n",
        "else:\n",
        "    validation_steps = (num_val_sequences//batch_size) + 1"
      ]
    },
    {
      "cell_type": "code",
      "execution_count": 94,
      "metadata": {
        "id": "-L2E58t-_elj"
      },
      "outputs": [],
      "source": [
        "# setting epochs to 10.\n",
        "num_epochs = 10"
      ]
    },
    {
      "cell_type": "code",
      "execution_count": 32,
      "metadata": {
        "id": "ehPu0ceDPje5"
      },
      "outputs": [],
      "source": [
        "import matplotlib.pyplot as plt"
      ]
    },
    {
      "cell_type": "markdown",
      "source": [
        "Defining plotting function to plot model accuracy and loss in both train and test."
      ],
      "metadata": {
        "id": "QHZTkOyLT_E2"
      }
    },
    {
      "cell_type": "code",
      "execution_count": 95,
      "metadata": {
        "id": "9aWH-ZOeEt_l"
      },
      "outputs": [],
      "source": [
        "def plotModelHistory(h):\n",
        "    fig, ax = plt.subplots(1, 2, figsize=(15,4))\n",
        "    ax[0].plot(h.history['loss'])\n",
        "    ax[0].plot(h.history['val_loss'])\n",
        "    ax[0].legend(['loss','val_loss'])\n",
        "    ax[0].title.set_text(\"Train loss vs Validation loss\")\n",
        "\n",
        "    ax[1].plot(h.history['categorical_accuracy'])\n",
        "    ax[1].plot(h.history['val_categorical_accuracy'])\n",
        "    ax[1].legend(['categorical_accuracy','val_categorical_accuracy'])\n",
        "    ax[1].title.set_text(\"Train accuracy vs Validation accuracy\")\n",
        "    plt.show()\n",
        "\n",
        "    print(\"Max. Training Accuracy\", max(h.history['categorical_accuracy']))\n",
        "    print(\"Max. Validaiton Accuracy\", max(h.history['val_categorical_accuracy']))"
      ]
    },
    {
      "cell_type": "markdown",
      "metadata": {
        "id": "7n7fYOv9K_yC"
      },
      "source": [
        "Let us now fit the model. This will start training the model and with the help of the checkpoints, you'll be able to save the model at the end of each epoch."
      ]
    },
    {
      "cell_type": "code",
      "execution_count": null,
      "metadata": {
        "id": "zgpz68ebK_yC",
        "colab": {
          "base_uri": "https://localhost:8080/"
        },
        "outputId": "deb0b15b-3502-4a02-a07e-5ef143c99bf6"
      },
      "outputs": [
        {
          "output_type": "stream",
          "name": "stdout",
          "text": [
            "Source path =  /content/drive/MyDrive/gesture recognition/Project_data/train ; batch size = 10\n",
            "; Num of batches = 66\n",
            "Epoch 1/10\n",
            "66/67 [============================>.] - ETA: 36s - loss: 1.6304 - categorical_accuracy: 0.4152 ; Num of batches = 221\n",
            "67/67 [==============================] - ETA: 0s - loss: 1.6303 - categorical_accuracy: 0.4148 Source path =  /content/drive/MyDrive/gesture recognition/Project_data/val ; batch size = 10\n",
            "; Num of batches = 10\n",
            "; Num of batches = 10\n",
            "\n",
            "Epoch 1: saving model to model_init_2023-09-0211_37_06.054011/model-00001-1.63031-0.41478-8.61776-0.24000.h5\n",
            "67/67 [==============================] - 2748s 42s/step - loss: 1.6303 - categorical_accuracy: 0.4148 - val_loss: 8.6178 - val_categorical_accuracy: 0.2400 - lr: 0.0010\n",
            "Epoch 2/10\n",
            "67/67 [==============================] - ETA: 0s - loss: 1.9246 - categorical_accuracy: 0.2587; Num of batches = 10\n",
            "\n",
            "Epoch 2: saving model to model_init_2023-09-0211_37_06.054011/model-00002-1.92455-0.25871-7.76273-0.23000.h5\n",
            "67/67 [==============================] - 158s 2s/step - loss: 1.9246 - categorical_accuracy: 0.2587 - val_loss: 7.7627 - val_categorical_accuracy: 0.2300 - lr: 0.0010\n",
            "Epoch 3/10\n",
            "67/67 [==============================] - ETA: 0s - loss: 1.9610 - categorical_accuracy: 0.3035; Num of batches = 10\n",
            "\n",
            "Epoch 3: saving model to model_init_2023-09-0211_37_06.054011/model-00003-1.96101-0.30348-3.86395-0.12000.h5\n",
            "67/67 [==============================] - 158s 2s/step - loss: 1.9610 - categorical_accuracy: 0.3035 - val_loss: 3.8639 - val_categorical_accuracy: 0.1200 - lr: 0.0010\n",
            "Epoch 4/10\n",
            "67/67 [==============================] - ETA: 0s - loss: 1.8965 - categorical_accuracy: 0.2289; Num of batches = 10\n",
            "\n",
            "Epoch 4: saving model to model_init_2023-09-0211_37_06.054011/model-00004-1.89655-0.22886-6.81769-0.21000.h5\n",
            "67/67 [==============================] - 159s 2s/step - loss: 1.8965 - categorical_accuracy: 0.2289 - val_loss: 6.8177 - val_categorical_accuracy: 0.2100 - lr: 0.0010\n",
            "Epoch 5/10\n",
            "19/67 [=======>......................] - ETA: 1:39 - loss: 1.7552 - categorical_accuracy: 0.3509; Num of batches = 221\n",
            "67/67 [==============================] - ETA: 0s - loss: 1.7053 - categorical_accuracy: 0.3134; Num of batches = 10\n",
            "\n",
            "Epoch 5: saving model to model_init_2023-09-0211_37_06.054011/model-00005-1.70529-0.31343-3.26192-0.35000.h5\n",
            "67/67 [==============================] - 160s 2s/step - loss: 1.7053 - categorical_accuracy: 0.3134 - val_loss: 3.2619 - val_categorical_accuracy: 0.3500 - lr: 0.0010\n",
            "Epoch 6/10\n",
            "67/67 [==============================] - ETA: 0s - loss: 1.6714 - categorical_accuracy: 0.3532; Num of batches = 10\n",
            "\n",
            "Epoch 6: saving model to model_init_2023-09-0211_37_06.054011/model-00006-1.67144-0.35323-2.28596-0.22000.h5\n",
            "67/67 [==============================] - 158s 2s/step - loss: 1.6714 - categorical_accuracy: 0.3532 - val_loss: 2.2860 - val_categorical_accuracy: 0.2200 - lr: 0.0010\n",
            "Epoch 7/10\n",
            "67/67 [==============================] - ETA: 0s - loss: 1.7845 - categorical_accuracy: 0.2736; Num of batches = 10\n",
            "\n",
            "Epoch 7: saving model to model_init_2023-09-0211_37_06.054011/model-00007-1.78449-0.27363-1.70896-0.39000.h5\n",
            "67/67 [==============================] - 157s 2s/step - loss: 1.7845 - categorical_accuracy: 0.2736 - val_loss: 1.7090 - val_categorical_accuracy: 0.3900 - lr: 0.0010\n",
            "Epoch 8/10\n",
            "39/67 [================>.............] - ETA: 57s - loss: 1.6864 - categorical_accuracy: 0.2393; Num of batches = 221\n",
            "67/67 [==============================] - ETA: 0s - loss: 1.6345 - categorical_accuracy: 0.2488; Num of batches = 10\n",
            "\n",
            "Epoch 8: saving model to model_init_2023-09-0211_37_06.054011/model-00008-1.63445-0.24876-1.72086-0.42000.h5\n",
            "67/67 [==============================] - 158s 2s/step - loss: 1.6345 - categorical_accuracy: 0.2488 - val_loss: 1.7209 - val_categorical_accuracy: 0.4200 - lr: 0.0010\n",
            "Epoch 9/10\n",
            "67/67 [==============================] - ETA: 0s - loss: 1.5316 - categorical_accuracy: 0.3781; Num of batches = 10\n",
            "\n",
            "Epoch 9: saving model to model_init_2023-09-0211_37_06.054011/model-00009-1.53155-0.37811-1.63055-0.43000.h5\n",
            "67/67 [==============================] - 156s 2s/step - loss: 1.5316 - categorical_accuracy: 0.3781 - val_loss: 1.6305 - val_categorical_accuracy: 0.4300 - lr: 0.0010\n",
            "Epoch 10/10\n",
            "67/67 [==============================] - ETA: 0s - loss: 1.6883 - categorical_accuracy: 0.3134; Num of batches = 10\n",
            "\n",
            "Epoch 10: saving model to model_init_2023-09-0211_37_06.054011/model-00010-1.68826-0.31343-1.71419-0.36000.h5\n",
            "67/67 [==============================] - 157s 2s/step - loss: 1.6883 - categorical_accuracy: 0.3134 - val_loss: 1.7142 - val_categorical_accuracy: 0.3600 - lr: 0.0010\n"
          ]
        }
      ],
      "source": [
        "# @title Base model running\n",
        "base_model_history = model.fit_generator(train_generator, steps_per_epoch=steps_per_epoch, epochs=num_epochs, verbose=1,\n",
        "                    callbacks=callbacks_list, validation_data=val_generator,\n",
        "                    validation_steps=validation_steps, class_weight=None, workers=1, initial_epoch=0)"
      ]
    },
    {
      "cell_type": "code",
      "execution_count": null,
      "metadata": {
        "colab": {
          "base_uri": "https://localhost:8080/",
          "height": 320
        },
        "id": "tObNARbfK_yC",
        "outputId": "eab46cb2-4c15-4ec3-81c1-ca2fa10ffb88"
      },
      "outputs": [
        {
          "output_type": "display_data",
          "data": {
            "text/plain": [
              "<Figure size 1500x400 with 2 Axes>"
            ],
            "image/png": "[encoded data removed]"
          },
          "metadata": {}
        },
        {
          "output_type": "stream",
          "name": "stdout",
          "text": [
            "Max. Training Accuracy 0.4147813022136688\n",
            "Max. Validaiton Accuracy 0.4300000071525574\n"
          ]
        }
      ],
      "source": [
        "plotModelHistory(base_model_history)"
      ]
    },
    {
      "cell_type": "markdown",
      "metadata": {
        "id": "nV31jLGf9wH3"
      },
      "source": []
    },
    {
      "cell_type": "markdown",
      "source": [],
      "metadata": {
        "id": "GAt1qraWNQzq"
      }
    },
    {
      "cell_type": "markdown",
      "metadata": {
        "id": "4rm2zrecG4p-"
      },
      "source": [
        "### Testing Batch size and frames"
      ]
    },
    {
      "cell_type": "code",
      "execution_count": null,
      "metadata": {
        "id": "WK2IvIZ79vwd"
      },
      "outputs": [],
      "source": [
        "def batchsizetester(n_frames, batch_size):\n",
        "  # n_frames = 16\n",
        "  num_epochs = 3\n",
        "  # batch_size = 64\n",
        "\n",
        "  img_tensor = getImgTensor(n_frames)\n",
        "  print(\"Using frames as\", img_tensor[0])\n",
        "  train_generator = generator(train_path, train_doc, batch_size, img_tensor)\n",
        "  val_generator = generator(val_path, val_doc, batch_size, img_tensor)\n",
        "\n",
        "  if (num_train_sequences%batch_size) == 0:\n",
        "    steps_per_epoch = int(num_train_sequences/batch_size)\n",
        "  else:\n",
        "    steps_per_epoch = (num_train_sequences//batch_size) + 1\n",
        "\n",
        "  if (num_val_sequences%batch_size) == 0:\n",
        "    validation_steps = int(num_val_sequences/batch_size)\n",
        "  else:\n",
        "    validation_steps = (num_val_sequences//batch_size) + 1\n",
        "\n",
        "  model = defineModel(img_tensor)\n",
        "\n",
        "  model_history = model.fit_generator(train_generator, steps_per_epoch=steps_per_epoch, epochs=num_epochs, verbose=1,\n",
        "                    callbacks=callbacks_list, validation_data=val_generator,\n",
        "                    validation_steps=validation_steps, class_weight=None, workers=1, initial_epoch=0)\n",
        "\n",
        "  plotModelHistory(model_history)"
      ]
    },
    {
      "cell_type": "code",
      "execution_count": null,
      "metadata": {
        "id": "Ph1pLaoAeskk",
        "colab": {
          "base_uri": "https://localhost:8080/",
          "height": 687
        },
        "outputId": "9f19adfc-5298-4747-9faf-ce4105ab4aa5"
      },
      "outputs": [
        {
          "output_type": "stream",
          "name": "stdout",
          "text": [
            "Using frames as [ 0  1  3  4  6  7  8 10 11 12 14 15 17 18 19 21 22 23 25 26 28 29]\n",
            "Source path =  /content/drive/MyDrive/gesture recognition/Project_data/train ; batch size = 64\n",
            "; Num of batches = 10\n",
            "Epoch 1/3\n",
            "10/11 [==========================>...] - ETA: 1:41 - loss: 1.4442 - categorical_accuracy: 0.4953; Num of batches = 28\n",
            "11/11 [==============================] - ETA: 0s - loss: 1.4163 - categorical_accuracy: 0.5023  Source path =  /content/drive/MyDrive/gesture recognition/Project_data/val ; batch size = 64\n",
            "; Num of batches = 1\n",
            "; Num of batches = 2\n",
            "\n",
            "Epoch 1: saving model to model_init_2023-09-0211_37_06.054011/model-00001-1.41633-0.50226-8.63691-0.20000.h5\n",
            "11/11 [==============================] - 1121s 107s/step - loss: 1.4163 - categorical_accuracy: 0.5023 - val_loss: 8.6369 - val_categorical_accuracy: 0.2000 - lr: 0.0010\n",
            "Epoch 2/3\n",
            "11/11 [==============================] - ETA: 0s - loss: 0.8958 - categorical_accuracy: 0.6443 ; Num of batches = 3\n",
            "\n",
            "Epoch 2: saving model to model_init_2023-09-0211_37_06.054011/model-00002-0.89578-0.64427-8.10334-0.23438.h5\n",
            "11/11 [==============================] - 228s 21s/step - loss: 0.8958 - categorical_accuracy: 0.6443 - val_loss: 8.1033 - val_categorical_accuracy: 0.2344 - lr: 0.0010\n",
            "Epoch 3/3\n",
            "11/11 [==============================] - ETA: 0s - loss: 0.8720 - categorical_accuracy: 0.6640 \n",
            "Epoch 3: saving model to model_init_2023-09-0211_37_06.054011/model-00003-0.87197-0.66403-6.30581-0.21429.h5\n",
            "11/11 [==============================] - 204s 19s/step - loss: 0.8720 - categorical_accuracy: 0.6640 - val_loss: 6.3058 - val_categorical_accuracy: 0.2143 - lr: 0.0010\n"
          ]
        },
        {
          "output_type": "display_data",
          "data": {
            "text/plain": [
              "<Figure size 1500x400 with 2 Axes>"
            ],
            "image/png": "[encoded data removed]"
          },
          "metadata": {}
        },
        {
          "output_type": "stream",
          "name": "stdout",
          "text": [
            "Max. Training Accuracy 0.6640316247940063\n",
            "Max. Validaiton Accuracy 0.234375\n"
          ]
        }
      ],
      "source": [
        "batchsizetester(22, 64)"
      ]
    },
    {
      "cell_type": "code",
      "execution_count": null,
      "metadata": {
        "id": "RX-jCFOCKolA",
        "colab": {
          "base_uri": "https://localhost:8080/",
          "height": 684
        },
        "outputId": "9bea5834-0c4b-4a36-8dbe-5bd3ab367463"
      },
      "outputs": [
        {
          "output_type": "stream",
          "name": "stdout",
          "text": [
            "Using frames as [ 0  2  4  6  8 10 12 15 17 19 21 23 25 27 29]\n",
            "Source path =  /content/drive/MyDrive/gesture recognition/Project_data/train ; batch size = 32\n",
            "; Num of batches = 20\n",
            "Epoch 1/3\n",
            "20/21 [===========================>..] - ETA: 13s - loss: 1.4423 - categorical_accuracy: 0.4500; Num of batches = 28\n",
            "21/21 [==============================] - ETA: 0s - loss: 1.4209 - categorical_accuracy: 0.4555 Source path =  /content/drive/MyDrive/gesture recognition/Project_data/val ; batch size = 32\n",
            "; Num of batches = 3\n",
            "; Num of batches = 25\n",
            "\n",
            "Epoch 1: saving model to model_init_2023-09-0211_37_06.054011/model-00001-1.42085-0.45551-2.58824-0.20000.h5\n",
            "21/21 [==============================] - 305s 15s/step - loss: 1.4209 - categorical_accuracy: 0.4555 - val_loss: 2.5882 - val_categorical_accuracy: 0.2000 - lr: 0.0010\n",
            "Epoch 2/3\n",
            "21/21 [==============================] - ETA: 0s - loss: 0.9537 - categorical_accuracy: 0.6335 \n",
            "Epoch 2: saving model to model_init_2023-09-0211_37_06.054011/model-00002-0.95372-0.63354-3.00796-0.25000.h5\n",
            "21/21 [==============================] - 216s 10s/step - loss: 0.9537 - categorical_accuracy: 0.6335 - val_loss: 3.0080 - val_categorical_accuracy: 0.2500 - lr: 0.0010\n",
            "Epoch 3/3\n",
            " 7/21 [=========>....................] - ETA: 2:18 - loss: 1.0227 - categorical_accuracy: 0.5776; Num of batches = 34\n",
            "21/21 [==============================] - ETA: 0s - loss: 0.9208 - categorical_accuracy: 0.6487\n",
            "Epoch 3: saving model to model_init_2023-09-0211_37_06.054011/model-00003-0.92085-0.64871-3.93051-0.25000.h5\n",
            "21/21 [==============================] - 186s 9s/step - loss: 0.9208 - categorical_accuracy: 0.6487 - val_loss: 3.9305 - val_categorical_accuracy: 0.2500 - lr: 0.0010\n"
          ]
        },
        {
          "output_type": "display_data",
          "data": {
            "text/plain": [
              "<Figure size 1500x400 with 2 Axes>"
            ],
            "image/png": "[encoded data removed]"
          },
          "metadata": {}
        },
        {
          "output_type": "stream",
          "name": "stdout",
          "text": [
            "Max. Training Accuracy 0.6487119197845459\n",
            "Max. Validaiton Accuracy 0.25\n"
          ]
        }
      ],
      "source": [
        "batchsizetester(15, 32)"
      ]
    },
    {
      "cell_type": "markdown",
      "metadata": {
        "id": "qtorUT-RNaSH"
      },
      "source": [
        "### Batch size is not helping much hence we will try out other options"
      ]
    },
    {
      "cell_type": "markdown",
      "metadata": {
        "id": "BH5H663SaRru"
      },
      "source": [
        "### Experiment 1"
      ]
    },
    {
      "cell_type": "markdown",
      "metadata": {
        "id": "QKCA8x8zalsP"
      },
      "source": [
        "Model 1 - Frames-16, Epoc-25"
      ]
    },
    {
      "cell_type": "code",
      "execution_count": null,
      "metadata": {
        "id": "cuicNDT5aOdd"
      },
      "outputs": [],
      "source": [
        "n_frames = 16\n",
        "num_epochs = 15\n",
        "batch_size = 64\n",
        "\n",
        "img_tensor = getImgTensor(n_frames)\n",
        "train_generator = generator(train_path, train_doc, batch_size, img_tensor)\n",
        "val_generator = generator(val_path, val_doc, batch_size, img_tensor)"
      ]
    },
    {
      "cell_type": "code",
      "execution_count": null,
      "metadata": {
        "id": "gNyiDGGkaOtm"
      },
      "outputs": [],
      "source": [
        "if (num_train_sequences%batch_size) == 0:\n",
        "    steps_per_epoch = int(num_train_sequences/batch_size)\n",
        "else:\n",
        "    steps_per_epoch = (num_train_sequences//batch_size) + 1\n",
        "\n",
        "if (num_val_sequences%batch_size) == 0:\n",
        "    validation_steps = int(num_val_sequences/batch_size)\n",
        "else:\n",
        "    validation_steps = (num_val_sequences//batch_size) + 1\n",
        "\n",
        "inputShape = (len(img_tensor[0]), img_tensor[1], img_tensor[2], img_tensor[3])\n"
      ]
    },
    {
      "cell_type": "code",
      "execution_count": null,
      "metadata": {
        "id": "x6bdFjNmbI_a"
      },
      "outputs": [],
      "source": [
        "model1 = Sequential([\n",
        "    Conv3D(16, make3dFilter(5), activation='relu', input_shape=inputShape),\n",
        "    MaxPooling3D(make3dFilter(2), padding='same'),\n",
        "    BatchNormalization(),\n",
        "\n",
        "    Conv3D(32, make3dFilter(3), activation='relu'),\n",
        "    MaxPooling3D(pool_size=(1,2,2), padding='same'),\n",
        "    BatchNormalization(),\n",
        "\n",
        "    Conv3D(64, make3dFilter(3), activation='relu'),\n",
        "    MaxPooling3D(pool_size=(1,2,2), padding='same'),\n",
        "    BatchNormalization(),\n",
        "\n",
        "    Flatten(),\n",
        "    Dense(128, activation='relu'),\n",
        "    BatchNormalization(),\n",
        "    Dropout(0.50),\n",
        "\n",
        "    Dense(64, activation='relu'),\n",
        "    BatchNormalization(),\n",
        "    Dropout(0.50),\n",
        "\n",
        "    Dense(5, activation='softmax')\n",
        "], name=\"conv_3d1\")"
      ]
    },
    {
      "cell_type": "code",
      "execution_count": null,
      "metadata": {
        "colab": {
          "base_uri": "https://localhost:8080/"
        },
        "id": "CfMdzj3MbUGH",
        "outputId": "6afd8077-a9f5-4182-a3de-bd67a4e28ac7"
      },
      "outputs": [
        {
          "output_type": "stream",
          "name": "stdout",
          "text": [
            "Model: \"conv_3d1\"\n",
            "_________________________________________________________________\n",
            " Layer (type)                Output Shape              Param #   \n",
            "=================================================================\n",
            " conv3d_9 (Conv3D)           (None, 12, 116, 116, 16)  6016      \n",
            "                                                                 \n",
            " max_pooling3d_9 (MaxPooling  (None, 6, 58, 58, 16)    0         \n",
            " 3D)                                                             \n",
            "                                                                 \n",
            " batch_normalization_15 (Bat  (None, 6, 58, 58, 16)    64        \n",
            " chNormalization)                                                \n",
            "                                                                 \n",
            " conv3d_10 (Conv3D)          (None, 4, 56, 56, 32)     13856     \n",
            "                                                                 \n",
            " max_pooling3d_10 (MaxPoolin  (None, 4, 28, 28, 32)    0         \n",
            " g3D)                                                            \n",
            "                                                                 \n",
            " batch_normalization_16 (Bat  (None, 4, 28, 28, 32)    128       \n",
            " chNormalization)                                                \n",
            "                                                                 \n",
            " conv3d_11 (Conv3D)          (None, 2, 26, 26, 64)     55360     \n",
            "                                                                 \n",
            " max_pooling3d_11 (MaxPoolin  (None, 2, 13, 13, 64)    0         \n",
            " g3D)                                                            \n",
            "                                                                 \n",
            " batch_normalization_17 (Bat  (None, 2, 13, 13, 64)    256       \n",
            " chNormalization)                                                \n",
            "                                                                 \n",
            " flatten_3 (Flatten)         (None, 21632)             0         \n",
            "                                                                 \n",
            " dense_9 (Dense)             (None, 128)               2769024   \n",
            "                                                                 \n",
            " batch_normalization_18 (Bat  (None, 128)              512       \n",
            " chNormalization)                                                \n",
            "                                                                 \n",
            " dropout_6 (Dropout)         (None, 128)               0         \n",
            "                                                                 \n",
            " dense_10 (Dense)            (None, 64)                8256      \n",
            "                                                                 \n",
            " batch_normalization_19 (Bat  (None, 64)               256       \n",
            " chNormalization)                                                \n",
            "                                                                 \n",
            " dropout_7 (Dropout)         (None, 64)                0         \n",
            "                                                                 \n",
            " dense_11 (Dense)            (None, 5)                 325       \n",
            "                                                                 \n",
            "=================================================================\n",
            "Total params: 2,854,053\n",
            "Trainable params: 2,853,445\n",
            "Non-trainable params: 608\n",
            "_________________________________________________________________\n",
            "None\n"
          ]
        }
      ],
      "source": [
        "model1.compile(optimizer=optimizers.Adam(), loss='categorical_crossentropy', metrics=['categorical_accuracy'])\n",
        "print(model1.summary())"
      ]
    },
    {
      "cell_type": "code",
      "execution_count": null,
      "metadata": {
        "colab": {
          "base_uri": "https://localhost:8080/"
        },
        "id": "WOcq2xLlbfgW",
        "outputId": "4b110c9f-752d-4860-89be-7ed416e377df"
      },
      "outputs": [
        {
          "output_type": "stream",
          "name": "stdout",
          "text": [
            "Source path =  /content/drive/MyDrive/gesture recognition/Project_data/train ; batch size = 64\n",
            "; Num of batches = 10\n",
            "Epoch 1/15\n",
            "10/11 [==========================>...] - ETA: 29s - loss: 1.9730 - categorical_accuracy: 0.3469; Num of batches = 28\n",
            "11/11 [==============================] - ETA: 0s - loss: 1.9483 - categorical_accuracy: 0.3544 Source path =  /content/drive/MyDrive/gesture recognition/Project_data/val ; batch size = 64\n",
            "; Num of batches = 1\n",
            "; Num of batches = 2\n",
            "\n",
            "Epoch 1: saving model to model_init_2023-09-0211_37_06.054011/model-00001-1.94830-0.35445-11.07328-0.21000.h5\n",
            "11/11 [==============================] - 326s 29s/step - loss: 1.9483 - categorical_accuracy: 0.3544 - val_loss: 11.0733 - val_categorical_accuracy: 0.2100 - lr: 0.0010\n",
            "Epoch 2/15\n",
            "11/11 [==============================] - ETA: 0s - loss: 1.2957 - categorical_accuracy: 0.5573 ; Num of batches = 3\n",
            "\n",
            "Epoch 2: saving model to model_init_2023-09-0211_37_06.054011/model-00002-1.29570-0.55731-14.77685-0.21875.h5\n",
            "11/11 [==============================] - 128s 12s/step - loss: 1.2957 - categorical_accuracy: 0.5573 - val_loss: 14.7768 - val_categorical_accuracy: 0.2188 - lr: 0.0010\n",
            "Epoch 3/15\n",
            "11/11 [==============================] - ETA: 0s - loss: 1.5021 - categorical_accuracy: 0.5020 \n",
            "Epoch 3: saving model to model_init_2023-09-0211_37_06.054011/model-00003-1.50205-0.50198-10.91696-0.21429.h5\n",
            "11/11 [==============================] - 123s 11s/step - loss: 1.5021 - categorical_accuracy: 0.5020 - val_loss: 10.9170 - val_categorical_accuracy: 0.2143 - lr: 0.0010\n",
            "Epoch 4/15\n",
            " 6/11 [===============>..............] - ETA: 51s - loss: 1.4571 - categorical_accuracy: 0.5072 ; Num of batches = 34\n",
            "11/11 [==============================] - ETA: 0s - loss: 1.3778 - categorical_accuracy: 0.5193; Num of batches = 6\n",
            "\n",
            "Epoch 4: saving model to model_init_2023-09-0211_37_06.054011/model-00004-1.37782-0.51931-12.88163-0.21875.h5\n",
            "11/11 [==============================] - 112s 10s/step - loss: 1.3778 - categorical_accuracy: 0.5193 - val_loss: 12.8816 - val_categorical_accuracy: 0.2188 - lr: 0.0010\n",
            "Epoch 5/15\n",
            "11/11 [==============================] - ETA: 0s - loss: 0.9939 - categorical_accuracy: 0.5981\n",
            "Epoch 5: saving model to model_init_2023-09-0211_37_06.054011/model-00005-0.99391-0.59809-10.09194-0.28125.h5\n",
            "11/11 [==============================] - 101s 9s/step - loss: 0.9939 - categorical_accuracy: 0.5981 - val_loss: 10.0919 - val_categorical_accuracy: 0.2812 - lr: 0.0010\n",
            "Epoch 6/15\n",
            "11/11 [==============================] - ETA: 0s - loss: 1.1789 - categorical_accuracy: 0.6124; Num of batches = 25\n",
            "\n",
            "Epoch 6: saving model to model_init_2023-09-0211_37_06.054011/model-00006-1.17893-0.61244-6.69906-0.25000.h5\n",
            "11/11 [==============================] - 96s 9s/step - loss: 1.1789 - categorical_accuracy: 0.6124 - val_loss: 6.6991 - val_categorical_accuracy: 0.2500 - lr: 0.0010\n",
            "Epoch 7/15\n",
            " 8/11 [====================>.........] - ETA: 25s - loss: 1.3982 - categorical_accuracy: 0.5395; Num of batches = 39\n",
            "11/11 [==============================] - ETA: 0s - loss: 1.3149 - categorical_accuracy: 0.5567\n",
            "Epoch 7: saving model to model_init_2023-09-0211_37_06.054011/model-00007-1.31493-0.55665-13.24629-0.12500.h5\n",
            "11/11 [==============================] - 93s 8s/step - loss: 1.3149 - categorical_accuracy: 0.5567 - val_loss: 13.2463 - val_categorical_accuracy: 0.1250 - lr: 0.0010\n",
            "Epoch 8/15\n",
            "11/11 [==============================] - ETA: 0s - loss: 1.0717 - categorical_accuracy: 0.6150\n",
            "Epoch 8: saving model to model_init_2023-09-0211_37_06.054011/model-00008-1.07168-0.61497-9.69754-0.25000.h5\n",
            "11/11 [==============================] - 85s 8s/step - loss: 1.0717 - categorical_accuracy: 0.6150 - val_loss: 9.6975 - val_categorical_accuracy: 0.2500 - lr: 0.0010\n",
            "Epoch 9/15\n",
            "11/11 [==============================] - ETA: 0s - loss: 1.2086 - categorical_accuracy: 0.5455\n",
            "Epoch 9: saving model to model_init_2023-09-0211_37_06.054011/model-00009-1.20858-0.54545-3.70160-0.25000.h5\n",
            "11/11 [==============================] - 85s 8s/step - loss: 1.2086 - categorical_accuracy: 0.5455 - val_loss: 3.7016 - val_categorical_accuracy: 0.2500 - lr: 0.0010\n",
            "Epoch 10/15\n",
            "11/11 [==============================] - ETA: 0s - loss: 1.1484 - categorical_accuracy: 0.5989\n",
            "Epoch 10: saving model to model_init_2023-09-0211_37_06.054011/model-00010-1.14836-0.59893-7.20275-0.00000.h5\n",
            "11/11 [==============================] - 85s 8s/step - loss: 1.1484 - categorical_accuracy: 0.5989 - val_loss: 7.2027 - val_categorical_accuracy: 0.0000e+00 - lr: 0.0010\n",
            "Epoch 11/15\n",
            " 3/11 [=======>......................] - ETA: 1:00 - loss: 0.8958 - categorical_accuracy: 0.6275; Num of batches = 39\n",
            "11/11 [==============================] - ETA: 0s - loss: 0.8890 - categorical_accuracy: 0.6150\n",
            "Epoch 11: saving model to model_init_2023-09-0211_37_06.054011/model-00011-0.88903-0.61497-1.21826-0.62500.h5\n",
            "11/11 [==============================] - 86s 8s/step - loss: 0.8890 - categorical_accuracy: 0.6150 - val_loss: 1.2183 - val_categorical_accuracy: 0.6250 - lr: 0.0010\n",
            "Epoch 12/15\n",
            "11/11 [==============================] - ETA: 0s - loss: 0.9411 - categorical_accuracy: 0.6257\n",
            "Epoch 12: saving model to model_init_2023-09-0211_37_06.054011/model-00012-0.94107-0.62567-1.70641-0.37500.h5\n",
            "11/11 [==============================] - 85s 8s/step - loss: 0.9411 - categorical_accuracy: 0.6257 - val_loss: 1.7064 - val_categorical_accuracy: 0.3750 - lr: 0.0010\n",
            "Epoch 13/15\n",
            "11/11 [==============================] - ETA: 0s - loss: 1.0884 - categorical_accuracy: 0.5561\n",
            "Epoch 13: saving model to model_init_2023-09-0211_37_06.054011/model-00013-1.08843-0.55615-2.56002-0.25000.h5\n",
            "11/11 [==============================] - 85s 8s/step - loss: 1.0884 - categorical_accuracy: 0.5561 - val_loss: 2.5600 - val_categorical_accuracy: 0.2500 - lr: 0.0010\n",
            "Epoch 14/15\n",
            " 9/11 [=======================>......] - ETA: 15s - loss: 0.8866 - categorical_accuracy: 0.6993; Num of batches = 39\n",
            "11/11 [==============================] - ETA: 0s - loss: 0.8902 - categorical_accuracy: 0.6952; Num of batches = 25\n",
            "\n",
            "Epoch 14: saving model to model_init_2023-09-0211_37_06.054011/model-00014-0.89018-0.69519-1.75688-0.50000.h5\n",
            "11/11 [==============================] - 86s 8s/step - loss: 0.8902 - categorical_accuracy: 0.6952 - val_loss: 1.7569 - val_categorical_accuracy: 0.5000 - lr: 0.0010\n",
            "Epoch 15/15\n",
            "11/11 [==============================] - ETA: 0s - loss: 0.7838 - categorical_accuracy: 0.6791\n",
            "Epoch 15: saving model to model_init_2023-09-0211_37_06.054011/model-00015-0.78381-0.67914-2.31670-0.50000.h5\n",
            "\n",
            "Epoch 15: ReduceLROnPlateau reducing learning rate to 0.00020000000949949026.\n",
            "11/11 [==============================] - 86s 8s/step - loss: 0.7838 - categorical_accuracy: 0.6791 - val_loss: 2.3167 - val_categorical_accuracy: 0.5000 - lr: 0.0010\n"
          ]
        }
      ],
      "source": [
        "model1_history = model1.fit_generator(train_generator, steps_per_epoch=steps_per_epoch, epochs=num_epochs, verbose=1,\n",
        "            callbacks=callbacks_list, validation_data=val_generator,\n",
        "            validation_steps=validation_steps, class_weight=None, workers=1, initial_epoch=0)"
      ]
    },
    {
      "cell_type": "code",
      "execution_count": null,
      "metadata": {
        "colab": {
          "base_uri": "https://localhost:8080/",
          "height": 318
        },
        "id": "qPBbLJRfhbwx",
        "outputId": "43315aca-5b7f-45d9-8773-2e13aed20b78"
      },
      "outputs": [
        {
          "output_type": "display_data",
          "data": {
            "text/plain": [
              "<Figure size 1500x400 with 2 Axes>"
            ],
            "image/png": "[encoded data removed]"
          },
          "metadata": {}
        },
        {
          "output_type": "stream",
          "name": "stdout",
          "text": [
            "Max. Training Accuracy 0.6951871514320374\n",
            "Max. Validaiton Accuracy 0.625\n"
          ]
        }
      ],
      "source": [
        "plotModelHistory(model1_history)"
      ]
    },
    {
      "cell_type": "code",
      "source": [
        "# @title Experiment 2\n",
        "\n",
        "n_frames = 30\n",
        "num_epochs = 30\n",
        "batch_size = 64\n",
        "\n",
        "img_tensor = getImgTensor(n_frames)\n",
        "train_generator = generator(train_path, train_doc, batch_size, img_tensor)\n",
        "val_generator = generator(val_path, val_doc, batch_size, img_tensor)\n",
        "\n",
        "if (num_train_sequences%batch_size) == 0:\n",
        "    steps_per_epoch = int(num_train_sequences/batch_size)\n",
        "else:\n",
        "    steps_per_epoch = (num_train_sequences//batch_size) + 1\n",
        "\n",
        "if (num_val_sequences%batch_size) == 0:\n",
        "    validation_steps = int(num_val_sequences/batch_size)\n",
        "else:\n",
        "    validation_steps = (num_val_sequences//batch_size) + 1\n",
        "\n",
        "inputShape = (len(img_tensor[0]), img_tensor[1], img_tensor[2], img_tensor[3])\n",
        "\n",
        "print(inputShape)\n"
      ],
      "metadata": {
        "colab": {
          "base_uri": "https://localhost:8080/"
        },
        "id": "28Tm0LwhT24z",
        "outputId": "284453f4-5fa9-471b-8002-85e8246b621a"
      },
      "execution_count": 29,
      "outputs": [
        {
          "output_type": "stream",
          "name": "stdout",
          "text": [
            "(30, 120, 120, 3)\n"
          ]
        }
      ]
    },
    {
      "cell_type": "code",
      "source": [
        "model2 = Sequential([\n",
        "    Conv3D(16, make3dFilter(5), activation='relu', input_shape=inputShape),\n",
        "    MaxPooling3D(make3dFilter(2), padding='same'),\n",
        "    BatchNormalization(),\n",
        "\n",
        "    Conv3D(32, make3dFilter(3), activation='relu'),\n",
        "    MaxPooling3D(pool_size=(1,2,2), padding='same'),\n",
        "    BatchNormalization(),\n",
        "\n",
        "    Conv3D(64, make3dFilter(3), activation='relu'),\n",
        "    MaxPooling3D(pool_size=(1,2,2), padding='same'),\n",
        "    BatchNormalization(),\n",
        "\n",
        "    Flatten(),\n",
        "    Dense(128, activation='relu'),\n",
        "    BatchNormalization(),\n",
        "    # Dropout(0.25),\n",
        "\n",
        "    # Conv3D(64, make3dFilter(3), activation='relu'),\n",
        "    # MaxPooling3D(pool_size=(1,2,2), padding='same'),\n",
        "    # BatchNormalization(),\n",
        "    # # Dropout(0.25),\n",
        "\n",
        "    Dense(64, activation='relu'),\n",
        "    BatchNormalization(),\n",
        "    Dropout(0.50),\n",
        "\n",
        "\n",
        "    # Conv3D(64, make3dFilter(5), activation='relu'),\n",
        "    # MaxPooling3D(pool_size=(1,2,2), padding='same'),\n",
        "    # BatchNormalization(),\n",
        "\n",
        "\n",
        "    Dense(5, activation='softmax')\n",
        "], name=\"conv_3d2\")\n",
        "\n"
      ],
      "metadata": {
        "id": "uvJx0_h7Udlt"
      },
      "execution_count": 31,
      "outputs": []
    },
    {
      "cell_type": "code",
      "source": [
        "model2.compile(optimizer=optimizers.Adam(), loss='categorical_crossentropy', metrics=['categorical_accuracy'])\n",
        "\n",
        "print(model2.summary())\n",
        "\n",
        "model2_history = model2.fit_generator(train_generator, steps_per_epoch=steps_per_epoch, epochs=num_epochs, verbose=1,\n",
        "            callbacks=callbacks_list, validation_data=val_generator,\n",
        "            validation_steps=validation_steps, class_weight=None, workers=1, initial_epoch=0)\n",
        "\n",
        "plotModelHistory(model2_history)"
      ],
      "metadata": {
        "colab": {
          "base_uri": "https://localhost:8080/"
        },
        "id": "Wqkmd-ibVp9o",
        "outputId": "06545b15-4f3a-4153-c03b-19bd707c44d3"
      },
      "execution_count": null,
      "outputs": [
        {
          "output_type": "stream",
          "name": "stdout",
          "text": [
            "Model: \"conv_3d2\"\n",
            "_________________________________________________________________\n",
            " Layer (type)                Output Shape              Param #   \n",
            "=================================================================\n",
            " conv3d_3 (Conv3D)           (None, 16, 116, 116, 16)  6016      \n",
            "                                                                 \n",
            " max_pooling3d_3 (MaxPooling  (None, 8, 58, 58, 16)    0         \n",
            " 3D)                                                             \n",
            "                                                                 \n",
            " batch_normalization_5 (Batc  (None, 8, 58, 58, 16)    64        \n",
            " hNormalization)                                                 \n",
            "                                                                 \n",
            " conv3d_4 (Conv3D)           (None, 6, 56, 56, 32)     13856     \n",
            "                                                                 \n",
            " max_pooling3d_4 (MaxPooling  (None, 6, 28, 28, 32)    0         \n",
            " 3D)                                                             \n",
            "                                                                 \n",
            " batch_normalization_6 (Batc  (None, 6, 28, 28, 32)    128       \n",
            " hNormalization)                                                 \n",
            "                                                                 \n",
            " conv3d_5 (Conv3D)           (None, 4, 26, 26, 64)     55360     \n",
            "                                                                 \n",
            " max_pooling3d_5 (MaxPooling  (None, 4, 13, 13, 64)    0         \n",
            " 3D)                                                             \n",
            "                                                                 \n",
            " batch_normalization_7 (Batc  (None, 4, 13, 13, 64)    256       \n",
            " hNormalization)                                                 \n",
            "                                                                 \n",
            " flatten_1 (Flatten)         (None, 43264)             0         \n",
            "                                                                 \n",
            " dense_3 (Dense)             (None, 128)               5537920   \n",
            "                                                                 \n",
            " batch_normalization_8 (Batc  (None, 128)              512       \n",
            " hNormalization)                                                 \n",
            "                                                                 \n",
            " dense_4 (Dense)             (None, 64)                8256      \n",
            "                                                                 \n",
            " batch_normalization_9 (Batc  (None, 64)               256       \n",
            " hNormalization)                                                 \n",
            "                                                                 \n",
            " dropout_2 (Dropout)         (None, 64)                0         \n",
            "                                                                 \n",
            " dense_5 (Dense)             (None, 5)                 325       \n",
            "                                                                 \n",
            "=================================================================\n",
            "Total params: 5,622,949\n",
            "Trainable params: 5,622,341\n",
            "Non-trainable params: 608\n",
            "_________________________________________________________________\n",
            "None\n",
            "Source path =  /content/drive/MyDrive/gesture recognition/Project_data/train ; batch size = 10\n",
            "; Num of batches = 66\n",
            "Epoch 1/10\n",
            "38/67 [================>.............] - ETA: 21:54 - loss: 2.0231 - categorical_accuracy: 0.3053"
          ]
        }
      ]
    },
    {
      "cell_type": "code",
      "source": [
        "# @title Experiment 3 - less parameters\n",
        "\n",
        "n_frames = 30\n",
        "num_epochs = 20\n",
        "batch_size = 64\n",
        "\n",
        "img_tensor = getImgTensor(n_frames)\n",
        "train_generator = generator(train_path, train_doc, batch_size, img_tensor)\n",
        "val_generator = generator(val_path, val_doc, batch_size, img_tensor)\n",
        "\n",
        "if (num_train_sequences%batch_size) == 0:\n",
        "    steps_per_epoch = int(num_train_sequences/batch_size)\n",
        "else:\n",
        "    steps_per_epoch = (num_train_sequences//batch_size) + 1\n",
        "\n",
        "if (num_val_sequences%batch_size) == 0:\n",
        "    validation_steps = int(num_val_sequences/batch_size)\n",
        "else:\n",
        "    validation_steps = (num_val_sequences//batch_size) + 1\n",
        "\n",
        "inputShape = (len(img_tensor[0]), img_tensor[1], img_tensor[2], img_tensor[3])\n"
      ],
      "metadata": {
        "id": "1G6fpqDumRqO"
      },
      "execution_count": null,
      "outputs": []
    },
    {
      "cell_type": "code",
      "source": [
        "model3 = Sequential([\n",
        "    Conv3D(16, make3dFilter(3), padding='same', activation='relu', input_shape=inputShape),\n",
        "    MaxPooling3D(make3dFilter(2), padding='same'),\n",
        "    BatchNormalization(),\n",
        "\n",
        "    Conv3D(32, make3dFilter(3), padding='same', activation='relu'),\n",
        "    MaxPooling3D(pool_size=(2), padding='same'),\n",
        "    BatchNormalization(),\n",
        "\n",
        "    Conv3D(64, make3dFilter(3), padding='same', activation='relu'),\n",
        "    MaxPooling3D(pool_size=(2), padding='same'),\n",
        "    BatchNormalization(),\n",
        "\n",
        "    Flatten(),\n",
        "    Dense(128, activation='relu'),\n",
        "    BatchNormalization(),\n",
        "    Dropout(0.25),\n",
        "\n",
        "    Dense(64, activation='relu'),\n",
        "    BatchNormalization(),\n",
        "    Dropout(0.25),\n",
        "\n",
        "    Dense(5, activation='softmax')\n",
        "], name=\"conv_3d3\")"
      ],
      "metadata": {
        "id": "mJcSHwWtmrWf"
      },
      "execution_count": null,
      "outputs": []
    },
    {
      "cell_type": "code",
      "source": [
        "model3.compile(optimizer=optimizers.Adam(), loss='categorical_crossentropy', metrics=['categorical_accuracy'])\n",
        "print(model3.summary())\n",
        "\n",
        "model3_history = model3.fit_generator(train_generator, steps_per_epoch=steps_per_epoch, epochs=num_epochs, verbose=1,\n",
        "            callbacks=callbacks_list, validation_data=val_generator,\n",
        "            validation_steps=validation_steps, class_weight=None, workers=1, initial_epoch=0)\n",
        "\n",
        "plotModelHistory(model3_history)"
      ],
      "metadata": {
        "id": "w39d-MLvmxNe"
      },
      "execution_count": null,
      "outputs": []
    },
    {
      "cell_type": "code",
      "source": [
        "# @title Experiment 5\n",
        "n_frames = 20\n",
        "num_epochs = 20\n",
        "batch_size = 64\n",
        "\n",
        "img_tensor = getImgTensor(n_frames)\n",
        "train_generator = generator(train_path, train_doc, batch_size, img_tensor)\n",
        "val_generator = generator(val_path, val_doc, batch_size, img_tensor)\n",
        "\n",
        "if (num_train_sequences%batch_size) == 0:\n",
        "    steps_per_epoch = int(num_train_sequences/batch_size)\n",
        "else:\n",
        "    steps_per_epoch = (num_train_sequences//batch_size) + 1\n",
        "\n",
        "if (num_val_sequences%batch_size) == 0:\n",
        "    validation_steps = int(num_val_sequences/batch_size)\n",
        "else:\n",
        "    validation_steps = (num_val_sequences//batch_size) + 1\n",
        "\n",
        "inputShape = (len(img_tensor[0]), img_tensor[1], img_tensor[2], img_tensor[3])"
      ],
      "metadata": {
        "id": "5gihSrKguZTT"
      },
      "execution_count": 28,
      "outputs": []
    },
    {
      "cell_type": "code",
      "source": [
        "model4 = Sequential([\n",
        "    Conv3D(16, make3dFilter(3), padding='same', activation='relu', input_shape=inputShape),\n",
        "    MaxPooling3D(make3dFilter(2), padding='same'),\n",
        "    BatchNormalization(),\n",
        "\n",
        "    Conv3D(32, make3dFilter(3), padding='same', activation='relu'),\n",
        "    MaxPooling3D(pool_size=(2), padding='same'),\n",
        "    BatchNormalization(),\n",
        "\n",
        "    Conv3D(64, make3dFilter(3), padding='same', activation='relu'),\n",
        "    MaxPooling3D(pool_size=(2), padding='same'),\n",
        "    BatchNormalization(),\n",
        "\n",
        "    Conv3D(128, make3dFilter(3), padding='same', activation='relu'),\n",
        "    MaxPooling3D(pool_size=(2), padding='same'),\n",
        "    BatchNormalization(),\n",
        "\n",
        "    Flatten(),\n",
        "    Dense(128, activation='relu'),\n",
        "    BatchNormalization(),\n",
        "    Dropout(0.25),\n",
        "\n",
        "    Dense(64, activation='relu'),\n",
        "    BatchNormalization(),\n",
        "    Dropout(0.25),\n",
        "\n",
        "    Dense(5, activation='softmax')\n",
        "], name=\"conv_3d4\")"
      ],
      "metadata": {
        "id": "HPD0YW2zueVt"
      },
      "execution_count": null,
      "outputs": []
    },
    {
      "cell_type": "code",
      "source": [
        "model4.compile(optimizer=optimizers.Adam(), loss='categorical_crossentropy', metrics=['categorical_accuracy'])\n",
        "print(model4.summary())\n",
        "\n",
        "model4_history = model4.fit_generator(train_generator, steps_per_epoch=steps_per_epoch, epochs=num_epochs, verbose=1,\n",
        "            callbacks=callbacks_list, validation_data=val_generator,\n",
        "            validation_steps=validation_steps, class_weight=None, workers=1, initial_epoch=0)\n",
        "\n",
        "plotModelHistory(model4_history)"
      ],
      "metadata": {
        "id": "CVoDFJmdukvn"
      },
      "execution_count": null,
      "outputs": []
    },
    {
      "cell_type": "code",
      "source": [
        "# @title Experiment 6: Conv2D+LSTM\n",
        "n_frames = 20\n",
        "num_epochs = 30\n",
        "batch_size = 32\n",
        "\n",
        "img_tensor = getImgTensor(n_frames)\n",
        "train_generator = generator(train_path, train_doc, batch_size, img_tensor)\n",
        "val_generator = generator(val_path, val_doc, batch_size, img_tensor)\n",
        "\n",
        "if (num_train_sequences%batch_size) == 0:\n",
        "    steps_per_epoch = int(num_train_sequences/batch_size)\n",
        "else:\n",
        "    steps_per_epoch = (num_train_sequences//batch_size) + 1\n",
        "\n",
        "if (num_val_sequences%batch_size) == 0:\n",
        "    validation_steps = int(num_val_sequences/batch_size)\n",
        "else:\n",
        "    validation_steps = (num_val_sequences//batch_size) + 1\n",
        "\n",
        "inputShape = (len(img_tensor[0]), img_tensor[1], img_tensor[2], img_tensor[3])\n",
        "\n",
        "model6 = Sequential([\n",
        "    TimeDistributed(Conv2D(16, make2dFilter(3), padding='same', activation='relu'), input_shape=inputShape),\n",
        "    TimeDistributed(BatchNormalization()),\n",
        "    TimeDistributed(MaxPooling2D(make2dFilter(2))),\n",
        "\n",
        "    TimeDistributed(Conv2D(32, make2dFilter(3), padding='same', activation='relu')),\n",
        "    TimeDistributed(BatchNormalization()),\n",
        "    TimeDistributed(MaxPooling2D(make2dFilter(2))),\n",
        "\n",
        "    TimeDistributed(Conv2D(64, make2dFilter(3), padding='same', activation='relu')),\n",
        "    TimeDistributed(BatchNormalization()),\n",
        "    TimeDistributed(MaxPooling2D(make2dFilter(2))),\n",
        "\n",
        "    TimeDistributed(Conv2D(128, make2dFilter(3), padding='same', activation='relu')),\n",
        "    TimeDistributed(BatchNormalization()),\n",
        "    TimeDistributed(MaxPooling2D(make2dFilter(2))),\n",
        "\n",
        "    TimeDistributed(Conv2D(256, make2dFilter(3), padding='same', activation='relu')),\n",
        "    TimeDistributed(BatchNormalization()),\n",
        "    TimeDistributed(MaxPooling2D(make2dFilter(2))),\n",
        "\n",
        "    TimeDistributed(Flatten()),\n",
        "    LSTM(256),\n",
        "    Dropout(0.2),\n",
        "\n",
        "    Dense(256, activation='relu'),\n",
        "    Dropout(0.2),\n",
        "\n",
        "    Dense(5, activation='softmax')\n",
        "], name=\"conv_2d_lstm\")"
      ],
      "metadata": {
        "id": "4HRDPAooyCNr"
      },
      "execution_count": null,
      "outputs": []
    },
    {
      "cell_type": "code",
      "source": [
        "model6.compile(optimizer=optimizers.Adam(), loss='categorical_crossentropy', metrics=['categorical_accuracy'])\n",
        "print(model6.summary())\n",
        "\n",
        "model6_history = model6.fit_generator(train_generator, steps_per_epoch=steps_per_epoch, epochs=num_epochs, verbose=1,\n",
        "            callbacks=callbacks_list, validation_data=val_generator,\n",
        "            validation_steps=validation_steps, class_weight=None, workers=1, initial_epoch=0)\n",
        "\n",
        "plotModelHistory(model6_history)"
      ],
      "metadata": {
        "id": "xSr-9yA_yUgW"
      },
      "execution_count": null,
      "outputs": []
    },
    {
      "cell_type": "code",
      "source": [
        "import resnet\n",
        "\n",
        "img_channels = 3\n",
        "img_rows = 120\n",
        "img_cols = 120\n",
        "\n",
        "nb_classes = 5"
      ],
      "metadata": {
        "colab": {
          "base_uri": "https://localhost:8080/",
          "height": 383
        },
        "id": "UKWsWovQeWc3",
        "outputId": "5f89ec3e-9337-4ada-ed5c-97f88fb40e15"
      },
      "execution_count": 22,
      "outputs": [
        {
          "output_type": "error",
          "ename": "ModuleNotFoundError",
          "evalue": "ignored",
          "traceback": [
            "\u001b[0;31m---------------------------------------------------------------------------\u001b[0m",
            "\u001b[0;31mModuleNotFoundError\u001b[0m                       Traceback (most recent call last)",
            "\u001b[0;32m<ipython-input-22-aa08fd62c1df>\u001b[0m in \u001b[0;36m<cell line: 1>\u001b[0;34m()\u001b[0m\n\u001b[0;32m----> 1\u001b[0;31m \u001b[0;32mimport\u001b[0m \u001b[0mresnet\u001b[0m\u001b[0;34m\u001b[0m\u001b[0;34m\u001b[0m\u001b[0m\n\u001b[0m\u001b[1;32m      2\u001b[0m \u001b[0;34m\u001b[0m\u001b[0m\n\u001b[1;32m      3\u001b[0m \u001b[0mimg_channels\u001b[0m \u001b[0;34m=\u001b[0m \u001b[0;36m3\u001b[0m\u001b[0;34m\u001b[0m\u001b[0;34m\u001b[0m\u001b[0m\n\u001b[1;32m      4\u001b[0m \u001b[0mimg_rows\u001b[0m \u001b[0;34m=\u001b[0m \u001b[0;36m120\u001b[0m\u001b[0;34m\u001b[0m\u001b[0;34m\u001b[0m\u001b[0m\n\u001b[1;32m      5\u001b[0m \u001b[0mimg_cols\u001b[0m \u001b[0;34m=\u001b[0m \u001b[0;36m120\u001b[0m\u001b[0;34m\u001b[0m\u001b[0;34m\u001b[0m\u001b[0m\n",
            "\u001b[0;31mModuleNotFoundError\u001b[0m: No module named 'resnet'",
            "",
            "\u001b[0;31m---------------------------------------------------------------------------\u001b[0;32m\nNOTE: If your import is failing due to a missing package, you can\nmanually install dependencies using either !pip or !apt.\n\nTo view examples of installing some common dependencies, click the\n\"Open Examples\" button below.\n\u001b[0;31m---------------------------------------------------------------------------\u001b[0m\n"
          ],
          "errorDetails": {
            "actions": [
              {
                "action": "open_url",
                "actionText": "Open Examples",
                "url": "/notebooks/snippets/importing_libraries.ipynb"
              }
            ]
          }
        }
      ]
    },
    {
      "cell_type": "code",
      "source": [
        "model = resnet.ResnetBuilder.build_resnet_18((img_channels, img_rows, img_cols), nb_classes)\n",
        "\n",
        "model7.compile(optimizer=optimizers.Adam(), loss='categorical_crossentropy', metrics=['categorical_accuracy'])\n",
        "\n",
        "model7_history = model7.fit_generator(train_generator, steps_per_epoch=steps_per_epoch, epochs=num_epochs, verbose=1,\n",
        "            callbacks=callbacks_list, validation_data=val_generator,\n",
        "            validation_steps=validation_steps, class_weight=None, workers=1, initial_epoch=0)\n",
        "\n",
        "plotModelHistory(model6_history)"
      ],
      "metadata": {
        "id": "gfUMJg1ketPK"
      },
      "execution_count": null,
      "outputs": []
    },
    {
      "cell_type": "code",
      "source": [
        "import tensorflow as tf\n",
        "from tensorflow.keras.applications import ResNet50, VGG16\n",
        "from tensorflow.keras.layers import LSTM, Flatten, Dense, Input\n",
        "from tensorflow.keras.models import Model\n",
        "from tensorflow.keras.layers import Reshape\n",
        "\n",
        "# Step 1: Load pre-trained ResNet-50\n",
        "#base_model = ResNet50(include_top=False, weights='imagenet', input_tensor=None, input_shape=(120, 120, 3))\n",
        "base_model = VGG16(weights='imagenet', include_top=False, input_shape=(120, 120, 3))\n",
        "# Step 2: Freeze the ResNet layers (optional, depending on your task)\n",
        "for layer in base_model.layers:\n",
        "    layer.trainable = False\n",
        "\n",
        "# Step 3: Define your RNN layer (LSTM in this case)\n",
        "input_size = 2048  # This should match the output feature size of ResNet-50\n",
        "hidden_size = 512\n",
        "num_layers = 1\n",
        "rnn = LSTM(hidden_size, return_sequences=False, return_state=False)\n",
        "\n",
        "# Step 4: Build the custom model\n",
        "input_tensor = Input(shape=(120, 120, 3))\n",
        "x = base_model(input_tensor)\n",
        "x = Flatten()(x)  # Flatten the output\n",
        "x = Reshape((1, -1))(x)\n",
        "x = rnn(x)\n",
        "output_layer = Dense(5, activation='softmax')  # Adjust num_classes for your task\n",
        "output = output_layer(x)\n",
        "\n",
        "# Step 5: Create the model\n",
        "model7 = Model(inputs=input_tensor, outputs=output)\n",
        "\n",
        "\n",
        "# Step 6: Compile the model (customize loss and optimizer for your task)\n",
        "model7.compile(optimizer='adam', loss='categorical_crossentropy', metrics=['accuracy'])\n",
        "\n",
        "# Print model summary\n",
        "model7.summary()\n",
        "\n"
      ],
      "metadata": {
        "id": "hVfwdf3rhZT0",
        "outputId": "c3ff9abe-eb0f-447e-f2db-9d6b3764fc0a",
        "colab": {
          "base_uri": "https://localhost:8080/"
        }
      },
      "execution_count": 38,
      "outputs": [
        {
          "output_type": "stream",
          "name": "stdout",
          "text": [
            "Downloading data from https://storage.googleapis.com/tensorflow/keras-applications/vgg16/vgg16_weights_tf_dim_ordering_tf_kernels_notop.h5\n",
            "58889256/58889256 [==============================] - 0s 0us/step\n",
            "Model: \"model_2\"\n",
            "_________________________________________________________________\n",
            " Layer (type)                Output Shape              Param #   \n",
            "=================================================================\n",
            " input_12 (InputLayer)       [(None, 120, 120, 3)]     0         \n",
            "                                                                 \n",
            " vgg16 (Functional)          (None, 3, 3, 512)         14714688  \n",
            "                                                                 \n",
            " flatten_5 (Flatten)         (None, 4608)              0         \n",
            "                                                                 \n",
            " reshape_3 (Reshape)         (None, 1, 4608)           0         \n",
            "                                                                 \n",
            " lstm_5 (LSTM)               (None, 512)               10487808  \n",
            "                                                                 \n",
            " dense_2 (Dense)             (None, 5)                 2565      \n",
            "                                                                 \n",
            "=================================================================\n",
            "Total params: 25,205,061\n",
            "Trainable params: 10,490,373\n",
            "Non-trainable params: 14,714,688\n",
            "_________________________________________________________________\n"
          ]
        }
      ]
    },
    {
      "cell_type": "code",
      "source": [
        "from tensorflow.keras.applications import VGG16\n",
        "from tensorflow.keras.layers import LSTM, Dense, TimeDistributed, Input\n",
        "from tensorflow.keras.models import Model\n",
        "\n",
        "# Define VGGNet for feature extraction\n",
        "base_model = VGG16(weights='imagenet', include_top=False, input_shape=(120, 120, 3))\n",
        "for layer in base_model.layers:\n",
        "    layer.trainable = False\n",
        "\n",
        "# Define LSTM layer\n",
        "input_sequence = Input(shape=(20, 120, 120, 3))\n",
        "feature_sequence = TimeDistributed(base_model)(input_sequence)\n",
        "flattened_features = TimeDistributed(Flatten())(feature_sequence)\n",
        "lstm_output = LSTM(512)(flattened_features)  # Adjust parameters as needed\n",
        "\n",
        "# Add output layer for your specific task (e.g., classification)\n",
        "output = Dense(5, activation='softmax')(lstm_output)\n",
        "\n",
        "# Create the model\n",
        "model7 = Model(inputs=input_sequence, outputs=output)"
      ],
      "metadata": {
        "id": "h-CGphafZp5r"
      },
      "execution_count": 53,
      "outputs": []
    },
    {
      "cell_type": "code",
      "source": [],
      "metadata": {
        "id": "WWCciLHjnUKw"
      },
      "execution_count": 68,
      "outputs": []
    },
    {
      "cell_type": "code",
      "source": [],
      "metadata": {
        "id": "ePtIJjneqG9h"
      },
      "execution_count": null,
      "outputs": []
    },
    {
      "cell_type": "code",
      "execution_count": 102,
      "metadata": {
        "id": "hNX4Vp6iqHR3"
      },
      "outputs": [],
      "source": [
        "def genhelper(source_path, folder_list, batch_size, img_tensor, t, batch):\n",
        "  [x,y,z] = [len(img_tensor[0]),img_tensor[1], img_tensor[2]]\n",
        "  # img_idx = [1,4,5,6,7,9,21]\n",
        "  # print('IMG tensor ...', img_tensor[0])\n",
        "  img_idx = img_tensor[0]\n",
        "  # print('IMG DX list', img_idx)\n",
        "  batch_data = np.zeros((batch_size,x,y,z,3)) # x is the number of images you use for each video, (y,z) is the final size of the input images and 3 is the number of channels RGB\n",
        "  batch_labels = np.zeros((batch_size,5)) # batch_labels is the one hot representation of the output\n",
        "  for folder in range(batch_size): # iterate over the batch_size\n",
        "                imgs = os.listdir(source_path+'/'+ t[folder + (batch*batch_size)].split(';')[0]) # read all the images in the folder\n",
        "                # print(' Foder currently reading : ='+ source_path+'/'+ t[folder + (batch*batch_size)].split(';')[0])\n",
        "                # print('IMGS...', imgs)\n",
        "\n",
        "                for idx,item in enumerate(img_idx): #  Iterate iver the frames/images of a folder to read them in\n",
        "                    # print('image index count : = ', idx , ' ; item =', item)\n",
        "                    # print('Batch: = ', batch , ' ; Batch size: =', batch_size , ' ; index =' , batch*batch_size)\n",
        "                    image = imread(source_path+'/'+ t[folder + (batch*batch_size)].strip().split(';')[0]+'/'+imgs[item]).astype(np.float32)\n",
        "\n",
        "                    #crop the images and resize them. Note that the images are of 2 different shape\n",
        "                    #and the conv3D will throw error if the inputs in a batch have different shapes\n",
        "\n",
        "                    batch_data[folder,:,:,0] = preprocessImage(image[:, :, 0], y, z) #normalise and feed in the imagema\n",
        "                    batch_data[folder,:,:,1] = preprocessImage(image[:, :, 1], y, z) #normalise and feed in the image\n",
        "                    batch_data[folder,:,:,2] = preprocessImage(image[:, :, 2], y, z) #normalise and feed in the image\n",
        "\n",
        "                batch_labels[folder, int(t[folder + (batch*batch_size)].strip().split(';')[2])] = 1\n",
        "  return batch_data, batch_labels #you yield the batch_data and the batch_labels, remember what does yield do\n",
        "\n",
        "        # write the code for the remaining data points which are left after full batches\n"
      ]
    },
    {
      "cell_type": "code",
      "execution_count": 103,
      "metadata": {
        "id": "zaIMLCPPZyO2"
      },
      "outputs": [],
      "source": [
        "def generator(source_path, folder_list, batch_size, img_tensor):\n",
        "    print( 'Source path = ', source_path, '; batch size =', batch_size)\n",
        "    # print('folder list length = ', folder_list)\n",
        "    # [x,y,z] = [len(img_tensor[0]),img_tensor[1], img_tensor[2]]\n",
        "    # img_idx = img_tensor[0]\n",
        "\n",
        "    while True:\n",
        "        t = np.random.permutation(folder_list)\n",
        "        num_batches = int(len(folder_list)/batch_size) # calculate the number of batches\n",
        "        print('; Num of batches =', num_batches)\n",
        "        for batch in range(num_batches): # we iterate over the number of batches\n",
        "            # print('; Current Batch =', batch)\n",
        "            yield genhelper(source_path, folder_list, batch_size, img_tensor, t, batch)#you yield the batch_data and the batch_labels, remember what does yield do\n",
        "\n",
        "\n",
        "        # write the code for the remaining data points which are left after full batches\n",
        "        if len(folder_list)%batch_size != 0:\n",
        "          batch_size = len(folder_list)%batch_size\n",
        "          yield genhelper(source_path, folder_list, batch_size, img_tensor, t, batch)#you yield the batch_data and the batch_labels, remember what does yield do"
      ]
    },
    {
      "cell_type": "code",
      "source": [
        "model7.compile(optimizer='adam', loss='categorical_crossentropy', metrics=['accuracy'])\n",
        "\n",
        "# Print model summary\n",
        "model7.summary()\n",
        "\n",
        "model7_history = model7.fit_generator(train_generator, steps_per_epoch=steps_per_epoch, epochs=num_epochs, verbose=1,\n",
        "            callbacks=callbacks_list, validation_data=val_generator,\n",
        "            validation_steps=validation_steps, class_weight=None, workers=1, initial_epoch=0)\n"
      ],
      "metadata": {
        "id": "qT8j-SWAiSjZ",
        "outputId": "481d10fe-88c6-4444-d3cc-4809cea8501c",
        "colab": {
          "base_uri": "https://localhost:8080/",
          "height": 965
        }
      },
      "execution_count": 98,
      "outputs": [
        {
          "output_type": "stream",
          "name": "stdout",
          "text": [
            "Model: \"model_4\"\n",
            "_________________________________________________________________\n",
            " Layer (type)                Output Shape              Param #   \n",
            "=================================================================\n",
            " input_18 (InputLayer)       [(None, 20, 120, 120, 3)  0         \n",
            "                             ]                                   \n",
            "                                                                 \n",
            " time_distributed_4 (TimeDis  (None, 20, 3, 3, 512)    14714688  \n",
            " tributed)                                                       \n",
            "                                                                 \n",
            " time_distributed_5 (TimeDis  (None, 20, 4608)         0         \n",
            " tributed)                                                       \n",
            "                                                                 \n",
            " lstm_8 (LSTM)               (None, 512)               10487808  \n",
            "                                                                 \n",
            " dense_4 (Dense)             (None, 5)                 2565      \n",
            "                                                                 \n",
            "=================================================================\n",
            "Total params: 25,205,061\n",
            "Trainable params: 10,490,373\n",
            "Non-trainable params: 14,714,688\n",
            "_________________________________________________________________\n",
            "Source path =  /content/drive/MyDrive/gesture recognition/Project_data/train ; batch size = 10\n",
            "; Num of batches = 66\n"
          ]
        },
        {
          "output_type": "error",
          "ename": "ValueError",
          "evalue": "ignored",
          "traceback": [
            "\u001b[0;31m---------------------------------------------------------------------------\u001b[0m",
            "\u001b[0;31mValueError\u001b[0m                                Traceback (most recent call last)",
            "\u001b[0;32m<ipython-input-98-dcc4a9c7997b>\u001b[0m in \u001b[0;36m<cell line: 6>\u001b[0;34m()\u001b[0m\n\u001b[1;32m      4\u001b[0m \u001b[0mmodel7\u001b[0m\u001b[0;34m.\u001b[0m\u001b[0msummary\u001b[0m\u001b[0;34m(\u001b[0m\u001b[0;34m)\u001b[0m\u001b[0;34m\u001b[0m\u001b[0;34m\u001b[0m\u001b[0m\n\u001b[1;32m      5\u001b[0m \u001b[0;34m\u001b[0m\u001b[0m\n\u001b[0;32m----> 6\u001b[0;31m model7_history = model7.fit_generator(train_generator, steps_per_epoch=steps_per_epoch, epochs=num_epochs, verbose=1,\n\u001b[0m\u001b[1;32m      7\u001b[0m             \u001b[0mcallbacks\u001b[0m\u001b[0;34m=\u001b[0m\u001b[0mcallbacks_list\u001b[0m\u001b[0;34m,\u001b[0m \u001b[0mvalidation_data\u001b[0m\u001b[0;34m=\u001b[0m\u001b[0mval_generator\u001b[0m\u001b[0;34m,\u001b[0m\u001b[0;34m\u001b[0m\u001b[0;34m\u001b[0m\u001b[0m\n\u001b[1;32m      8\u001b[0m             validation_steps=validation_steps, class_weight=None, workers=1, initial_epoch=0)\n",
            "\u001b[0;32m/usr/local/lib/python3.10/dist-packages/keras/engine/training.py\u001b[0m in \u001b[0;36mfit_generator\u001b[0;34m(self, generator, steps_per_epoch, epochs, verbose, callbacks, validation_data, validation_steps, validation_freq, class_weight, max_queue_size, workers, use_multiprocessing, shuffle, initial_epoch)\u001b[0m\n\u001b[1;32m   2634\u001b[0m             \u001b[0mstacklevel\u001b[0m\u001b[0;34m=\u001b[0m\u001b[0;36m2\u001b[0m\u001b[0;34m,\u001b[0m\u001b[0;34m\u001b[0m\u001b[0;34m\u001b[0m\u001b[0m\n\u001b[1;32m   2635\u001b[0m         )\n\u001b[0;32m-> 2636\u001b[0;31m         return self.fit(\n\u001b[0m\u001b[1;32m   2637\u001b[0m             \u001b[0mgenerator\u001b[0m\u001b[0;34m,\u001b[0m\u001b[0;34m\u001b[0m\u001b[0;34m\u001b[0m\u001b[0m\n\u001b[1;32m   2638\u001b[0m             \u001b[0msteps_per_epoch\u001b[0m\u001b[0;34m=\u001b[0m\u001b[0msteps_per_epoch\u001b[0m\u001b[0;34m,\u001b[0m\u001b[0;34m\u001b[0m\u001b[0;34m\u001b[0m\u001b[0m\n",
            "\u001b[0;32m/usr/local/lib/python3.10/dist-packages/keras/utils/traceback_utils.py\u001b[0m in \u001b[0;36merror_handler\u001b[0;34m(*args, **kwargs)\u001b[0m\n\u001b[1;32m     68\u001b[0m             \u001b[0;31m# To get the full stack trace, call:\u001b[0m\u001b[0;34m\u001b[0m\u001b[0;34m\u001b[0m\u001b[0m\n\u001b[1;32m     69\u001b[0m             \u001b[0;31m# `tf.debugging.disable_traceback_filtering()`\u001b[0m\u001b[0;34m\u001b[0m\u001b[0;34m\u001b[0m\u001b[0m\n\u001b[0;32m---> 70\u001b[0;31m             \u001b[0;32mraise\u001b[0m \u001b[0me\u001b[0m\u001b[0;34m.\u001b[0m\u001b[0mwith_traceback\u001b[0m\u001b[0;34m(\u001b[0m\u001b[0mfiltered_tb\u001b[0m\u001b[0;34m)\u001b[0m \u001b[0;32mfrom\u001b[0m \u001b[0;32mNone\u001b[0m\u001b[0;34m\u001b[0m\u001b[0;34m\u001b[0m\u001b[0m\n\u001b[0m\u001b[1;32m     71\u001b[0m         \u001b[0;32mfinally\u001b[0m\u001b[0;34m:\u001b[0m\u001b[0;34m\u001b[0m\u001b[0;34m\u001b[0m\u001b[0m\n\u001b[1;32m     72\u001b[0m             \u001b[0;32mdel\u001b[0m \u001b[0mfiltered_tb\u001b[0m\u001b[0;34m\u001b[0m\u001b[0;34m\u001b[0m\u001b[0m\n",
            "\u001b[0;32m<ipython-input-84-bf4d430f6024>\u001b[0m in \u001b[0;36mgenerator\u001b[0;34m(source_path, folder_list, batch_size, img_tensor)\u001b[0m\n\u001b[1;32m     11\u001b[0m         \u001b[0;32mfor\u001b[0m \u001b[0mbatch\u001b[0m \u001b[0;32min\u001b[0m \u001b[0mrange\u001b[0m\u001b[0;34m(\u001b[0m\u001b[0mnum_batches\u001b[0m\u001b[0;34m)\u001b[0m\u001b[0;34m:\u001b[0m \u001b[0;31m# we iterate over the number of batches\u001b[0m\u001b[0;34m\u001b[0m\u001b[0;34m\u001b[0m\u001b[0m\n\u001b[1;32m     12\u001b[0m             \u001b[0;31m# print('; Current Batch =', batch)\u001b[0m\u001b[0;34m\u001b[0m\u001b[0;34m\u001b[0m\u001b[0m\n\u001b[0;32m---> 13\u001b[0;31m             \u001b[0;32myield\u001b[0m \u001b[0mgenhelper\u001b[0m\u001b[0;34m(\u001b[0m\u001b[0msource_path\u001b[0m\u001b[0;34m,\u001b[0m \u001b[0mfolder_list\u001b[0m\u001b[0;34m,\u001b[0m \u001b[0mbatch_size\u001b[0m\u001b[0;34m,\u001b[0m \u001b[0mimg_tensor\u001b[0m\u001b[0;34m,\u001b[0m \u001b[0mt\u001b[0m\u001b[0;34m,\u001b[0m \u001b[0mbatch\u001b[0m\u001b[0;34m)\u001b[0m\u001b[0;31m#you yield the batch_data and the batch_labels, remember what does yield do\u001b[0m\u001b[0;34m\u001b[0m\u001b[0;34m\u001b[0m\u001b[0m\n\u001b[0m\u001b[1;32m     14\u001b[0m \u001b[0;34m\u001b[0m\u001b[0m\n\u001b[1;32m     15\u001b[0m \u001b[0;34m\u001b[0m\u001b[0m\n",
            "\u001b[0;32m<ipython-input-96-965aeb02ba0f>\u001b[0m in \u001b[0;36mgenhelper\u001b[0;34m(source_path, folder_list, batch_size, img_tensor, t, batch)\u001b[0m\n\u001b[1;32m     20\u001b[0m                     \u001b[0;31m#and the conv3D will throw error if the inputs in a batch have different shapes\u001b[0m\u001b[0;34m\u001b[0m\u001b[0;34m\u001b[0m\u001b[0m\n\u001b[1;32m     21\u001b[0m \u001b[0;34m\u001b[0m\u001b[0m\n\u001b[0;32m---> 22\u001b[0;31m                     \u001b[0mbatch_data\u001b[0m\u001b[0;34m[\u001b[0m\u001b[0;34m:\u001b[0m\u001b[0;34m,\u001b[0m\u001b[0;34m:\u001b[0m\u001b[0;34m,\u001b[0m\u001b[0;36m0\u001b[0m\u001b[0;34m]\u001b[0m \u001b[0;34m=\u001b[0m \u001b[0mpreprocessImage\u001b[0m\u001b[0;34m(\u001b[0m\u001b[0mimage\u001b[0m\u001b[0;34m[\u001b[0m\u001b[0;34m:\u001b[0m\u001b[0;34m,\u001b[0m \u001b[0;34m:\u001b[0m\u001b[0;34m,\u001b[0m \u001b[0;36m0\u001b[0m\u001b[0;34m]\u001b[0m\u001b[0;34m,\u001b[0m \u001b[0my\u001b[0m\u001b[0;34m,\u001b[0m \u001b[0mz\u001b[0m\u001b[0;34m)\u001b[0m \u001b[0;31m#normalise and feed in the imagema\u001b[0m\u001b[0;34m\u001b[0m\u001b[0;34m\u001b[0m\u001b[0m\n\u001b[0m\u001b[1;32m     23\u001b[0m                     \u001b[0mbatch_data\u001b[0m\u001b[0;34m[\u001b[0m\u001b[0;34m:\u001b[0m\u001b[0;34m,\u001b[0m\u001b[0;34m:\u001b[0m\u001b[0;34m,\u001b[0m\u001b[0;36m1\u001b[0m\u001b[0;34m]\u001b[0m \u001b[0;34m=\u001b[0m \u001b[0mpreprocessImage\u001b[0m\u001b[0;34m(\u001b[0m\u001b[0mimage\u001b[0m\u001b[0;34m[\u001b[0m\u001b[0;34m:\u001b[0m\u001b[0;34m,\u001b[0m \u001b[0;34m:\u001b[0m\u001b[0;34m,\u001b[0m \u001b[0;36m1\u001b[0m\u001b[0;34m]\u001b[0m\u001b[0;34m,\u001b[0m \u001b[0my\u001b[0m\u001b[0;34m,\u001b[0m \u001b[0mz\u001b[0m\u001b[0;34m)\u001b[0m \u001b[0;31m#normalise and feed in the image\u001b[0m\u001b[0;34m\u001b[0m\u001b[0;34m\u001b[0m\u001b[0m\n\u001b[1;32m     24\u001b[0m                     \u001b[0mbatch_data\u001b[0m\u001b[0;34m[\u001b[0m\u001b[0;34m:\u001b[0m\u001b[0;34m,\u001b[0m\u001b[0;34m:\u001b[0m\u001b[0;34m,\u001b[0m\u001b[0;36m2\u001b[0m\u001b[0;34m]\u001b[0m \u001b[0;34m=\u001b[0m \u001b[0mpreprocessImage\u001b[0m\u001b[0;34m(\u001b[0m\u001b[0mimage\u001b[0m\u001b[0;34m[\u001b[0m\u001b[0;34m:\u001b[0m\u001b[0;34m,\u001b[0m \u001b[0;34m:\u001b[0m\u001b[0;34m,\u001b[0m \u001b[0;36m2\u001b[0m\u001b[0;34m]\u001b[0m\u001b[0;34m,\u001b[0m \u001b[0my\u001b[0m\u001b[0;34m,\u001b[0m \u001b[0mz\u001b[0m\u001b[0;34m)\u001b[0m \u001b[0;31m#normalise and feed in the image\u001b[0m\u001b[0;34m\u001b[0m\u001b[0;34m\u001b[0m\u001b[0m\n",
            "\u001b[0;31mValueError\u001b[0m: could not broadcast input array from shape (120,120) into shape (10,20,120,3)"
          ]
        }
      ]
    },
    {
      "cell_type": "code",
      "source": [
        "# check complete batch shape\n",
        "sample_generator = generator(train_path, train_doc, 32, img_tensor)\n",
        "sample_batch_data, sample_batch_labels = next(sample_generator)\n",
        "print(sample_batch_data.shape)"
      ],
      "metadata": {
        "id": "NA2covtGZGgv",
        "outputId": "97731211-a96c-4cf7-d10f-5b5aff49be2d",
        "colab": {
          "base_uri": "https://localhost:8080/",
          "height": 393
        }
      },
      "execution_count": 106,
      "outputs": [
        {
          "output_type": "stream",
          "name": "stdout",
          "text": [
            "Source path =  /content/drive/MyDrive/gesture recognition/Project_data/train ; batch size = 32\n",
            "; Num of batches = 20\n"
          ]
        },
        {
          "output_type": "error",
          "ename": "TypeError",
          "evalue": "ignored",
          "traceback": [
            "\u001b[0;31m---------------------------------------------------------------------------\u001b[0m",
            "\u001b[0;31mTypeError\u001b[0m                                 Traceback (most recent call last)",
            "\u001b[0;32m<ipython-input-106-833058df6be6>\u001b[0m in \u001b[0;36m<cell line: 3>\u001b[0;34m()\u001b[0m\n\u001b[1;32m      1\u001b[0m \u001b[0;31m# check complete batch shape\u001b[0m\u001b[0;34m\u001b[0m\u001b[0;34m\u001b[0m\u001b[0m\n\u001b[1;32m      2\u001b[0m \u001b[0msample_generator\u001b[0m \u001b[0;34m=\u001b[0m \u001b[0mgenerator\u001b[0m\u001b[0;34m(\u001b[0m\u001b[0mtrain_path\u001b[0m\u001b[0;34m,\u001b[0m \u001b[0mtrain_doc\u001b[0m\u001b[0;34m,\u001b[0m \u001b[0;36m32\u001b[0m\u001b[0;34m,\u001b[0m \u001b[0mimg_tensor\u001b[0m\u001b[0;34m)\u001b[0m\u001b[0;34m\u001b[0m\u001b[0;34m\u001b[0m\u001b[0m\n\u001b[0;32m----> 3\u001b[0;31m \u001b[0msample_batch_data\u001b[0m\u001b[0;34m,\u001b[0m \u001b[0msample_batch_labels\u001b[0m \u001b[0;34m=\u001b[0m \u001b[0mnext\u001b[0m\u001b[0;34m(\u001b[0m\u001b[0msample_generator\u001b[0m\u001b[0;34m)\u001b[0m\u001b[0;34m\u001b[0m\u001b[0;34m\u001b[0m\u001b[0m\n\u001b[0m\u001b[1;32m      4\u001b[0m \u001b[0mprint\u001b[0m\u001b[0;34m(\u001b[0m\u001b[0msample_batch_data\u001b[0m\u001b[0;34m.\u001b[0m\u001b[0mshape\u001b[0m\u001b[0;34m)\u001b[0m\u001b[0;34m\u001b[0m\u001b[0;34m\u001b[0m\u001b[0m\n",
            "\u001b[0;32m<ipython-input-103-bf4d430f6024>\u001b[0m in \u001b[0;36mgenerator\u001b[0;34m(source_path, folder_list, batch_size, img_tensor)\u001b[0m\n\u001b[1;32m     11\u001b[0m         \u001b[0;32mfor\u001b[0m \u001b[0mbatch\u001b[0m \u001b[0;32min\u001b[0m \u001b[0mrange\u001b[0m\u001b[0;34m(\u001b[0m\u001b[0mnum_batches\u001b[0m\u001b[0;34m)\u001b[0m\u001b[0;34m:\u001b[0m \u001b[0;31m# we iterate over the number of batches\u001b[0m\u001b[0;34m\u001b[0m\u001b[0;34m\u001b[0m\u001b[0m\n\u001b[1;32m     12\u001b[0m             \u001b[0;31m# print('; Current Batch =', batch)\u001b[0m\u001b[0;34m\u001b[0m\u001b[0;34m\u001b[0m\u001b[0m\n\u001b[0;32m---> 13\u001b[0;31m             \u001b[0;32myield\u001b[0m \u001b[0mgenhelper\u001b[0m\u001b[0;34m(\u001b[0m\u001b[0msource_path\u001b[0m\u001b[0;34m,\u001b[0m \u001b[0mfolder_list\u001b[0m\u001b[0;34m,\u001b[0m \u001b[0mbatch_size\u001b[0m\u001b[0;34m,\u001b[0m \u001b[0mimg_tensor\u001b[0m\u001b[0;34m,\u001b[0m \u001b[0mt\u001b[0m\u001b[0;34m,\u001b[0m \u001b[0mbatch\u001b[0m\u001b[0;34m)\u001b[0m\u001b[0;31m#you yield the batch_data and the batch_labels, remember what does yield do\u001b[0m\u001b[0;34m\u001b[0m\u001b[0;34m\u001b[0m\u001b[0m\n\u001b[0m\u001b[1;32m     14\u001b[0m \u001b[0;34m\u001b[0m\u001b[0m\n\u001b[1;32m     15\u001b[0m \u001b[0;34m\u001b[0m\u001b[0m\n",
            "\u001b[0;32m<ipython-input-102-f7ce9973e4e3>\u001b[0m in \u001b[0;36mgenhelper\u001b[0;34m(source_path, folder_list, batch_size, img_tensor, t, batch)\u001b[0m\n\u001b[1;32m     20\u001b[0m                     \u001b[0;31m#and the conv3D will throw error if the inputs in a batch have different shapes\u001b[0m\u001b[0;34m\u001b[0m\u001b[0;34m\u001b[0m\u001b[0m\n\u001b[1;32m     21\u001b[0m \u001b[0;34m\u001b[0m\u001b[0m\n\u001b[0;32m---> 22\u001b[0;31m                     \u001b[0mbatch_data\u001b[0m\u001b[0;34m[\u001b[0m\u001b[0mfolder\u001b[0m\u001b[0;34m,\u001b[0m\u001b[0;34m:\u001b[0m\u001b[0;34m,\u001b[0m\u001b[0;34m:\u001b[0m\u001b[0;34m,\u001b[0m\u001b[0;36m0\u001b[0m\u001b[0;34m]\u001b[0m \u001b[0;34m=\u001b[0m \u001b[0mpreprocessImage\u001b[0m\u001b[0;34m(\u001b[0m\u001b[0mimage\u001b[0m\u001b[0;34m[\u001b[0m\u001b[0;34m:\u001b[0m\u001b[0;34m,\u001b[0m \u001b[0;34m:\u001b[0m\u001b[0;34m,\u001b[0m \u001b[0;36m0\u001b[0m\u001b[0;34m]\u001b[0m\u001b[0;34m,\u001b[0m \u001b[0my\u001b[0m\u001b[0;34m,\u001b[0m \u001b[0mz\u001b[0m\u001b[0;34m)\u001b[0m \u001b[0;31m#normalise and feed in the imagema\u001b[0m\u001b[0;34m\u001b[0m\u001b[0;34m\u001b[0m\u001b[0m\n\u001b[0m\u001b[1;32m     23\u001b[0m                     \u001b[0mbatch_data\u001b[0m\u001b[0;34m[\u001b[0m\u001b[0mfolder\u001b[0m\u001b[0;34m,\u001b[0m\u001b[0;34m:\u001b[0m\u001b[0;34m,\u001b[0m\u001b[0;34m:\u001b[0m\u001b[0;34m,\u001b[0m\u001b[0;36m1\u001b[0m\u001b[0;34m]\u001b[0m \u001b[0;34m=\u001b[0m \u001b[0mpreprocessImage\u001b[0m\u001b[0;34m(\u001b[0m\u001b[0mimage\u001b[0m\u001b[0;34m[\u001b[0m\u001b[0;34m:\u001b[0m\u001b[0;34m,\u001b[0m \u001b[0;34m:\u001b[0m\u001b[0;34m,\u001b[0m \u001b[0;36m1\u001b[0m\u001b[0;34m]\u001b[0m\u001b[0;34m,\u001b[0m \u001b[0my\u001b[0m\u001b[0;34m,\u001b[0m \u001b[0mz\u001b[0m\u001b[0;34m)\u001b[0m \u001b[0;31m#normalise and feed in the image\u001b[0m\u001b[0;34m\u001b[0m\u001b[0;34m\u001b[0m\u001b[0m\n\u001b[1;32m     24\u001b[0m                     \u001b[0mbatch_data\u001b[0m\u001b[0;34m[\u001b[0m\u001b[0mfolder\u001b[0m\u001b[0;34m,\u001b[0m\u001b[0;34m:\u001b[0m\u001b[0;34m,\u001b[0m\u001b[0;34m:\u001b[0m\u001b[0;34m,\u001b[0m\u001b[0;36m2\u001b[0m\u001b[0;34m]\u001b[0m \u001b[0;34m=\u001b[0m \u001b[0mpreprocessImage\u001b[0m\u001b[0;34m(\u001b[0m\u001b[0mimage\u001b[0m\u001b[0;34m[\u001b[0m\u001b[0;34m:\u001b[0m\u001b[0;34m,\u001b[0m \u001b[0;34m:\u001b[0m\u001b[0;34m,\u001b[0m \u001b[0;36m2\u001b[0m\u001b[0;34m]\u001b[0m\u001b[0;34m,\u001b[0m \u001b[0my\u001b[0m\u001b[0;34m,\u001b[0m \u001b[0mz\u001b[0m\u001b[0;34m)\u001b[0m \u001b[0;31m#normalise and feed in the image\u001b[0m\u001b[0;34m\u001b[0m\u001b[0;34m\u001b[0m\u001b[0m\n",
            "\u001b[0;32m<ipython-input-82-d970bfcecd6e>\u001b[0m in \u001b[0;36mpreprocessImage\u001b[0;34m(image, y, z)\u001b[0m\n\u001b[1;32m      1\u001b[0m \u001b[0;32mdef\u001b[0m \u001b[0mpreprocessImage\u001b[0m\u001b[0;34m(\u001b[0m\u001b[0mimage\u001b[0m\u001b[0;34m,\u001b[0m \u001b[0my\u001b[0m\u001b[0;34m,\u001b[0m \u001b[0mz\u001b[0m\u001b[0;34m)\u001b[0m\u001b[0;34m:\u001b[0m\u001b[0;34m\u001b[0m\u001b[0;34m\u001b[0m\u001b[0m\n\u001b[0;32m----> 2\u001b[0;31m     \u001b[0;32mreturn\u001b[0m \u001b[0mnormalizeImage\u001b[0m\u001b[0;34m(\u001b[0m\u001b[0mcropResize\u001b[0m\u001b[0;34m(\u001b[0m\u001b[0mimage\u001b[0m\u001b[0;34m,\u001b[0m \u001b[0my\u001b[0m\u001b[0;34m,\u001b[0m \u001b[0mz\u001b[0m\u001b[0;34m)\u001b[0m\u001b[0;34m)\u001b[0m\u001b[0;34m\u001b[0m\u001b[0;34m\u001b[0m\u001b[0m\n\u001b[0m",
            "\u001b[0;32m<ipython-input-105-c460149d8c52>\u001b[0m in \u001b[0;36mcropResize\u001b[0;34m(image, y, z)\u001b[0m\n\u001b[1;32m      7\u001b[0m \u001b[0;34m\u001b[0m\u001b[0m\n\u001b[1;32m      8\u001b[0m     \u001b[0;31m# resize every image\u001b[0m\u001b[0;34m\u001b[0m\u001b[0;34m\u001b[0m\u001b[0m\n\u001b[0;32m----> 9\u001b[0;31m     \u001b[0;32mreturn\u001b[0m \u001b[0mresize\u001b[0m\u001b[0;34m(\u001b[0m\u001b[0mimage\u001b[0m\u001b[0;34m)\u001b[0m\u001b[0;34m\u001b[0m\u001b[0;34m\u001b[0m\u001b[0m\n\u001b[0m",
            "\u001b[0;31mTypeError\u001b[0m: resize() missing 1 required positional argument: 'output_shape'"
          ]
        }
      ]
    },
    {
      "cell_type": "code",
      "source": [],
      "metadata": {
        "id": "hPKh2m-HVzTV"
      },
      "execution_count": null,
      "outputs": []
    }
  ],
  "metadata": {
    "accelerator": "TPU",
    "colab": {
      "provenance": [],
      "machine_shape": "hm",
      "include_colab_link": true
    },
    "kernelspec": {
      "display_name": "Python 3",
      "name": "python3"
    },
    "language_info": {
      "codemirror_mode": {
        "name": "ipython",
        "version": 3
      },
      "file_extension": ".py",
      "mimetype": "text/x-python",
      "name": "python",
      "nbconvert_exporter": "python",
      "pygments_lexer": "ipython3",
      "version": "3.11.3"
    }
  },
  "nbformat": 4,
  "nbformat_minor": 0
}